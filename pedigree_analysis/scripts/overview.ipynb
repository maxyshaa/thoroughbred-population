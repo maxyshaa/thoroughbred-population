{
 "cells": [
  {
   "cell_type": "markdown",
   "metadata": {},
   "source": [
    "This notebook is meant to give basic idea of how pedigree files were provided and what kinf of information they have. In addition, here is presented a basic statistics of raw files as well as highlighted some issues that could help in constructing the script for reformatting and merging 2 pedigrees."
   ]
  },
  {
   "cell_type": "code",
   "execution_count": 1,
   "metadata": {},
   "outputs": [
    {
     "name": "stderr",
     "output_type": "stream",
     "text": [
      "/tmp/ipykernel_674742/523115141.py:1: DeprecationWarning: \n",
      "Pyarrow will become a required dependency of pandas in the next major release of pandas (pandas 3.0),\n",
      "(to allow more performant data types, such as the Arrow string type, and better interoperability with other libraries)\n",
      "but was not found to be installed on your system.\n",
      "If this would cause problems for you,\n",
      "please provide us feedback at https://github.com/pandas-dev/pandas/issues/54466\n",
      "        \n",
      "  import pandas as pd\n"
     ]
    }
   ],
   "source": [
    "import pandas as pd\n",
    "import numpy as np\n",
    "import datetime as dt\n",
    "import matplotlib.pyplot as plt\n",
    "import seaborn as sns"
   ]
  },
  {
   "cell_type": "code",
   "execution_count": 4,
   "metadata": {},
   "outputs": [],
   "source": [
    "sheet_to_df_map = pd.read_excel(\"~/projects/thb_research/pedigree_analysis/data/raw_pedigree_part1.xlsx\", \n",
    "                                sheet_name=None, \n",
    "                                dtype=str,\n",
    "                                na_values=[\" \", \"\", \"None\"]) # just to unify missing values\n",
    "\n",
    "# the names of the sheets are:\n",
    "# PedIDMatch (matching suffixes of genome id written in plink files with ped id), \n",
    "# PedNew (pedigree phenotypes info), \n",
    "# GenotypeIDs (info about genotypes)\n",
    "\n",
    "pedid_match = sheet_to_df_map[\"PedIDMatch\"]\n",
    "ped_df = sheet_to_df_map[\"PedNew\"]\n",
    "geno_id = sheet_to_df_map[\"GenotypeIDs\"]\n",
    "\n",
    "# read a pedigree with additional 6k data without info on pedigree\n",
    "ped_addit = pd.read_csv(\"~/projects/thb_research/pedigree_analysis/data/raw_pedigree_part2.csv\", \n",
    "                        dtype=str, na_values=[\" \", \"\", \"None\"], \n",
    "                        usecols=range(12)).query(\"id.notna().values\") # to read only those rows that has an actual records"
   ]
  },
  {
   "cell_type": "code",
   "execution_count": null,
   "metadata": {},
   "outputs": [],
   "source": [
    "# PedIdMatch\n",
    "pedid_match.head()"
   ]
  },
  {
   "cell_type": "code",
   "execution_count": 15,
   "metadata": {},
   "outputs": [
    {
     "data": {
      "text/plain": [
       "14695"
      ]
     },
     "execution_count": 15,
     "metadata": {},
     "output_type": "execute_result"
    }
   ],
   "source": [
    "pedid_match[\"Equinome ID\"].nunique()"
   ]
  },
  {
   "cell_type": "code",
   "execution_count": 16,
   "metadata": {},
   "outputs": [
    {
     "data": {
      "text/plain": [
       "13877"
      ]
     },
     "execution_count": 16,
     "metadata": {},
     "output_type": "execute_result"
    }
   ],
   "source": [
    "pedid_match[\"horse_id\"].nunique()"
   ]
  },
  {
   "cell_type": "code",
   "execution_count": 14,
   "metadata": {},
   "outputs": [
    {
     "data": {
      "text/plain": [
       "(14695, 3)"
      ]
     },
     "execution_count": 14,
     "metadata": {},
     "output_type": "execute_result"
    }
   ],
   "source": [
    "pedid_match.shape"
   ]
  },
  {
   "cell_type": "code",
   "execution_count": 28,
   "metadata": {},
   "outputs": [
    {
     "data": {
      "text/plain": [
       "(762, 2)"
      ]
     },
     "execution_count": 28,
     "metadata": {},
     "output_type": "execute_result"
    }
   ],
   "source": [
    "pedid_match.groupby(\"horse_id\", as_index=False).agg({\"Equinome ID\": \"count\"}).query(\"`Equinome ID` > 1\").shape"
   ]
  },
  {
   "cell_type": "code",
   "execution_count": 27,
   "metadata": {},
   "outputs": [
    {
     "data": {
      "text/plain": [
       "(56, 2)"
      ]
     },
     "execution_count": 27,
     "metadata": {},
     "output_type": "execute_result"
    }
   ],
   "source": [
    "pedid_match.groupby(\"horse_id\", as_index=False).agg({\"Equinome ID\": \"count\"}).query(\"`Equinome ID` > 2\").shape"
   ]
  },
  {
   "cell_type": "code",
   "execution_count": 29,
   "metadata": {},
   "outputs": [
    {
     "data": {
      "text/plain": [
       "(0, 2)"
      ]
     },
     "execution_count": 29,
     "metadata": {},
     "output_type": "execute_result"
    }
   ],
   "source": [
    "pedid_match.groupby(\"horse_id\", as_index=False).agg({\"Equinome ID\": \"count\"}).query(\"`Equinome ID` > 3\").shape"
   ]
  },
  {
   "cell_type": "code",
   "execution_count": 9,
   "metadata": {},
   "outputs": [
    {
     "data": {
      "text/plain": [
       "(14695, 3)"
      ]
     },
     "execution_count": 9,
     "metadata": {},
     "output_type": "execute_result"
    }
   ],
   "source": [
    "pedid_match.shape"
   ]
  },
  {
   "cell_type": "code",
   "execution_count": 30,
   "metadata": {},
   "outputs": [
    {
     "data": {
      "text/plain": [
       "Equinome ID    False\n",
       "Horse Name     False\n",
       "horse_id       False\n",
       "dtype: bool"
      ]
     },
     "execution_count": 30,
     "metadata": {},
     "output_type": "execute_result"
    }
   ],
   "source": [
    "pedid_match.isna().any()"
   ]
  },
  {
   "cell_type": "code",
   "execution_count": 6,
   "metadata": {},
   "outputs": [
    {
     "data": {
      "text/html": [
       "<div>\n",
       "<style scoped>\n",
       "    .dataframe tbody tr th:only-of-type {\n",
       "        vertical-align: middle;\n",
       "    }\n",
       "\n",
       "    .dataframe tbody tr th {\n",
       "        vertical-align: top;\n",
       "    }\n",
       "\n",
       "    .dataframe thead th {\n",
       "        text-align: right;\n",
       "    }\n",
       "</style>\n",
       "<table border=\"1\" class=\"dataframe\">\n",
       "  <thead>\n",
       "    <tr style=\"text-align: right;\">\n",
       "      <th></th>\n",
       "      <th>id</th>\n",
       "      <th>status</th>\n",
       "      <th>name</th>\n",
       "      <th>sire_id</th>\n",
       "      <th>dam_id</th>\n",
       "      <th>YOB</th>\n",
       "      <th>sex</th>\n",
       "      <th>colour</th>\n",
       "      <th>COB</th>\n",
       "    </tr>\n",
       "  </thead>\n",
       "  <tbody>\n",
       "    <tr>\n",
       "      <th>0</th>\n",
       "      <td>7</td>\n",
       "      <td>0</td>\n",
       "      <td>battle joined</td>\n",
       "      <td>3</td>\n",
       "      <td>6</td>\n",
       "      <td>1959</td>\n",
       "      <td>1</td>\n",
       "      <td>b.</td>\n",
       "      <td>USA</td>\n",
       "    </tr>\n",
       "    <tr>\n",
       "      <th>1</th>\n",
       "      <td>177841</td>\n",
       "      <td>0</td>\n",
       "      <td>armed venus</td>\n",
       "      <td>3</td>\n",
       "      <td>452020</td>\n",
       "      <td>1958</td>\n",
       "      <td>2</td>\n",
       "      <td>b.</td>\n",
       "      <td>USA</td>\n",
       "    </tr>\n",
       "    <tr>\n",
       "      <th>2</th>\n",
       "      <td>448331</td>\n",
       "      <td>0</td>\n",
       "      <td>gentility</td>\n",
       "      <td>3</td>\n",
       "      <td>448330</td>\n",
       "      <td>1961</td>\n",
       "      <td>2</td>\n",
       "      <td>b.</td>\n",
       "      <td>USA</td>\n",
       "    </tr>\n",
       "    <tr>\n",
       "      <th>3</th>\n",
       "      <td>15</td>\n",
       "      <td>0</td>\n",
       "      <td>ack ack</td>\n",
       "      <td>7</td>\n",
       "      <td>14</td>\n",
       "      <td>1966</td>\n",
       "      <td>1</td>\n",
       "      <td>b.</td>\n",
       "      <td>USA</td>\n",
       "    </tr>\n",
       "    <tr>\n",
       "      <th>4</th>\n",
       "      <td>383725</td>\n",
       "      <td>0</td>\n",
       "      <td>jungle war</td>\n",
       "      <td>7</td>\n",
       "      <td>383724</td>\n",
       "      <td>1964</td>\n",
       "      <td>2</td>\n",
       "      <td>b.</td>\n",
       "      <td>USA</td>\n",
       "    </tr>\n",
       "  </tbody>\n",
       "</table>\n",
       "</div>"
      ],
      "text/plain": [
       "       id status           name sire_id  dam_id   YOB sex colour  COB\n",
       "0       7      0  battle joined       3       6  1959   1     b.  USA\n",
       "1  177841      0    armed venus       3  452020  1958   2     b.  USA\n",
       "2  448331      0      gentility       3  448330  1961   2     b.  USA\n",
       "3      15      0        ack ack       7      14  1966   1     b.  USA\n",
       "4  383725      0     jungle war       7  383724  1964   2     b.  USA"
      ]
     },
     "execution_count": 6,
     "metadata": {},
     "output_type": "execute_result"
    }
   ],
   "source": [
    "# PedNew\n",
    "ped_df.head()"
   ]
  },
  {
   "cell_type": "code",
   "execution_count": 10,
   "metadata": {},
   "outputs": [
    {
     "data": {
      "text/plain": [
       "(68655, 9)"
      ]
     },
     "execution_count": 10,
     "metadata": {},
     "output_type": "execute_result"
    }
   ],
   "source": [
    "ped_df.shape"
   ]
  },
  {
   "cell_type": "code",
   "execution_count": 31,
   "metadata": {},
   "outputs": [
    {
     "data": {
      "text/plain": [
       "68655"
      ]
     },
     "execution_count": 31,
     "metadata": {},
     "output_type": "execute_result"
    }
   ],
   "source": [
    "ped_df.id.nunique()"
   ]
  },
  {
   "cell_type": "code",
   "execution_count": 59,
   "metadata": {},
   "outputs": [
    {
     "data": {
      "text/html": [
       "<div>\n",
       "<style scoped>\n",
       "    .dataframe tbody tr th:only-of-type {\n",
       "        vertical-align: middle;\n",
       "    }\n",
       "\n",
       "    .dataframe tbody tr th {\n",
       "        vertical-align: top;\n",
       "    }\n",
       "\n",
       "    .dataframe thead th {\n",
       "        text-align: right;\n",
       "    }\n",
       "</style>\n",
       "<table border=\"1\" class=\"dataframe\">\n",
       "  <thead>\n",
       "    <tr style=\"text-align: right;\">\n",
       "      <th></th>\n",
       "      <th>id</th>\n",
       "      <th>status</th>\n",
       "      <th>name</th>\n",
       "      <th>sire_id</th>\n",
       "      <th>dam_id</th>\n",
       "      <th>YOB</th>\n",
       "      <th>sex</th>\n",
       "      <th>colour</th>\n",
       "      <th>COB</th>\n",
       "    </tr>\n",
       "  </thead>\n",
       "  <tbody>\n",
       "    <tr>\n",
       "      <th>56785</th>\n",
       "      <td>196235</td>\n",
       "      <td>3</td>\n",
       "      <td>abadan</td>\n",
       "      <td>NaN</td>\n",
       "      <td>NaN</td>\n",
       "      <td>NaN</td>\n",
       "      <td>1</td>\n",
       "      <td>NaN</td>\n",
       "      <td>GB</td>\n",
       "    </tr>\n",
       "    <tr>\n",
       "      <th>56792</th>\n",
       "      <td>265453</td>\n",
       "      <td>3</td>\n",
       "      <td>abadan</td>\n",
       "      <td>NaN</td>\n",
       "      <td>NaN</td>\n",
       "      <td>NaN</td>\n",
       "      <td>1</td>\n",
       "      <td>NaN</td>\n",
       "      <td>GB</td>\n",
       "    </tr>\n",
       "    <tr>\n",
       "      <th>56796</th>\n",
       "      <td>385381</td>\n",
       "      <td>3</td>\n",
       "      <td>abbots trace</td>\n",
       "      <td>NaN</td>\n",
       "      <td>NaN</td>\n",
       "      <td>NaN</td>\n",
       "      <td>1</td>\n",
       "      <td>NaN</td>\n",
       "      <td>IRE</td>\n",
       "    </tr>\n",
       "    <tr>\n",
       "      <th>56797</th>\n",
       "      <td>455953</td>\n",
       "      <td>3</td>\n",
       "      <td>abbots trace</td>\n",
       "      <td>NaN</td>\n",
       "      <td>NaN</td>\n",
       "      <td>NaN</td>\n",
       "      <td>1</td>\n",
       "      <td>NaN</td>\n",
       "      <td>IRE</td>\n",
       "    </tr>\n",
       "    <tr>\n",
       "      <th>56836</th>\n",
       "      <td>473013</td>\n",
       "      <td>3</td>\n",
       "      <td>abbots trace</td>\n",
       "      <td>NaN</td>\n",
       "      <td>NaN</td>\n",
       "      <td>NaN</td>\n",
       "      <td>1</td>\n",
       "      <td>NaN</td>\n",
       "      <td>IRE</td>\n",
       "    </tr>\n",
       "    <tr>\n",
       "      <th>...</th>\n",
       "      <td>...</td>\n",
       "      <td>...</td>\n",
       "      <td>...</td>\n",
       "      <td>...</td>\n",
       "      <td>...</td>\n",
       "      <td>...</td>\n",
       "      <td>...</td>\n",
       "      <td>...</td>\n",
       "      <td>...</td>\n",
       "    </tr>\n",
       "    <tr>\n",
       "      <th>68630</th>\n",
       "      <td>385541</td>\n",
       "      <td>3</td>\n",
       "      <td>zingara</td>\n",
       "      <td>NaN</td>\n",
       "      <td>NaN</td>\n",
       "      <td>NaN</td>\n",
       "      <td>2</td>\n",
       "      <td>NaN</td>\n",
       "      <td>FR</td>\n",
       "    </tr>\n",
       "    <tr>\n",
       "      <th>68631</th>\n",
       "      <td>444915</td>\n",
       "      <td>3</td>\n",
       "      <td>zingara</td>\n",
       "      <td>NaN</td>\n",
       "      <td>NaN</td>\n",
       "      <td>NaN</td>\n",
       "      <td>2</td>\n",
       "      <td>NaN</td>\n",
       "      <td>FR</td>\n",
       "    </tr>\n",
       "    <tr>\n",
       "      <th>68650</th>\n",
       "      <td>190775</td>\n",
       "      <td>3</td>\n",
       "      <td>zvornik</td>\n",
       "      <td>NaN</td>\n",
       "      <td>NaN</td>\n",
       "      <td>NaN</td>\n",
       "      <td>1</td>\n",
       "      <td>NaN</td>\n",
       "      <td>AUS</td>\n",
       "    </tr>\n",
       "    <tr>\n",
       "      <th>68651</th>\n",
       "      <td>295979</td>\n",
       "      <td>3</td>\n",
       "      <td>zvornik</td>\n",
       "      <td>NaN</td>\n",
       "      <td>NaN</td>\n",
       "      <td>NaN</td>\n",
       "      <td>1</td>\n",
       "      <td>NaN</td>\n",
       "      <td>AUS</td>\n",
       "    </tr>\n",
       "    <tr>\n",
       "      <th>68652</th>\n",
       "      <td>315633</td>\n",
       "      <td>3</td>\n",
       "      <td>zvornik</td>\n",
       "      <td>NaN</td>\n",
       "      <td>NaN</td>\n",
       "      <td>NaN</td>\n",
       "      <td>1</td>\n",
       "      <td>NaN</td>\n",
       "      <td>AUS</td>\n",
       "    </tr>\n",
       "  </tbody>\n",
       "</table>\n",
       "<p>4203 rows × 9 columns</p>\n",
       "</div>"
      ],
      "text/plain": [
       "           id status          name sire_id dam_id  YOB sex colour  COB\n",
       "56785  196235      3        abadan     NaN    NaN  NaN   1    NaN   GB\n",
       "56792  265453      3        abadan     NaN    NaN  NaN   1    NaN   GB\n",
       "56796  385381      3  abbots trace     NaN    NaN  NaN   1    NaN  IRE\n",
       "56797  455953      3  abbots trace     NaN    NaN  NaN   1    NaN  IRE\n",
       "56836  473013      3  abbots trace     NaN    NaN  NaN   1    NaN  IRE\n",
       "...       ...    ...           ...     ...    ...  ...  ..    ...  ...\n",
       "68630  385541      3       zingara     NaN    NaN  NaN   2    NaN   FR\n",
       "68631  444915      3       zingara     NaN    NaN  NaN   2    NaN   FR\n",
       "68650  190775      3       zvornik     NaN    NaN  NaN   1    NaN  AUS\n",
       "68651  295979      3       zvornik     NaN    NaN  NaN   1    NaN  AUS\n",
       "68652  315633      3       zvornik     NaN    NaN  NaN   1    NaN  AUS\n",
       "\n",
       "[4203 rows x 9 columns]"
      ]
     },
     "execution_count": 59,
     "metadata": {},
     "output_type": "execute_result"
    }
   ],
   "source": [
    "ped_df[ped_df.duplicated([\"name\", \"dam_id\", \"YOB\"], keep=False)]"
   ]
  },
  {
   "cell_type": "code",
   "execution_count": 32,
   "metadata": {},
   "outputs": [
    {
     "data": {
      "text/plain": [
       "id             0\n",
       "status         0\n",
       "name           2\n",
       "sire_id    11871\n",
       "dam_id     11871\n",
       "YOB         9927\n",
       "sex         1944\n",
       "colour     14813\n",
       "COB         4032\n",
       "dtype: int64"
      ]
     },
     "execution_count": 32,
     "metadata": {},
     "output_type": "execute_result"
    }
   ],
   "source": [
    "ped_df.isna().sum()"
   ]
  },
  {
   "cell_type": "code",
   "execution_count": 38,
   "metadata": {},
   "outputs": [
    {
     "data": {
      "text/plain": [
       "id          0.00\n",
       "status      0.00\n",
       "name        0.00\n",
       "sire_id    17.29\n",
       "dam_id     17.29\n",
       "YOB        14.46\n",
       "sex         2.83\n",
       "colour     21.58\n",
       "COB         5.87\n",
       "dtype: float64"
      ]
     },
     "execution_count": 38,
     "metadata": {},
     "output_type": "execute_result"
    }
   ],
   "source": [
    "ped_df.apply(lambda x: ((1-(x.count()/x.size))*100).round(2)) "
   ]
  },
  {
   "cell_type": "code",
   "execution_count": null,
   "metadata": {},
   "outputs": [],
   "source": []
  },
  {
   "cell_type": "code",
   "execution_count": null,
   "metadata": {},
   "outputs": [],
   "source": []
  },
  {
   "cell_type": "code",
   "execution_count": 7,
   "metadata": {},
   "outputs": [
    {
     "data": {
      "text/html": [
       "<div>\n",
       "<style scoped>\n",
       "    .dataframe tbody tr th:only-of-type {\n",
       "        vertical-align: middle;\n",
       "    }\n",
       "\n",
       "    .dataframe tbody tr th {\n",
       "        vertical-align: top;\n",
       "    }\n",
       "\n",
       "    .dataframe thead th {\n",
       "        text-align: right;\n",
       "    }\n",
       "</style>\n",
       "<table border=\"1\" class=\"dataframe\">\n",
       "  <thead>\n",
       "    <tr style=\"text-align: right;\">\n",
       "      <th></th>\n",
       "      <th>id</th>\n",
       "      <th>batchID</th>\n",
       "      <th>equinomeID</th>\n",
       "      <th>SNPChip</th>\n",
       "      <th>Year of Birth</th>\n",
       "      <th>Country Reported</th>\n",
       "      <th>sex</th>\n",
       "    </tr>\n",
       "  </thead>\n",
       "  <tbody>\n",
       "    <tr>\n",
       "      <th>0</th>\n",
       "      <td>20160112_JSB001_409</td>\n",
       "      <td>20160112</td>\n",
       "      <td>JSB001_409</td>\n",
       "      <td>SNP670</td>\n",
       "      <td>1971</td>\n",
       "      <td>Ireland</td>\n",
       "      <td>Female</td>\n",
       "    </tr>\n",
       "    <tr>\n",
       "      <th>1</th>\n",
       "      <td>20141029_CM108</td>\n",
       "      <td>20141029</td>\n",
       "      <td>CM108</td>\n",
       "      <td>SNP70</td>\n",
       "      <td>1973</td>\n",
       "      <td>Ireland</td>\n",
       "      <td>Female</td>\n",
       "    </tr>\n",
       "    <tr>\n",
       "      <th>2</th>\n",
       "      <td>20100101_CM002</td>\n",
       "      <td>20100101</td>\n",
       "      <td>CM002</td>\n",
       "      <td>SNP50</td>\n",
       "      <td>1974</td>\n",
       "      <td>Ireland</td>\n",
       "      <td>Male</td>\n",
       "    </tr>\n",
       "    <tr>\n",
       "      <th>3</th>\n",
       "      <td>20100101_CM104</td>\n",
       "      <td>20100101</td>\n",
       "      <td>CM104</td>\n",
       "      <td>SNP50</td>\n",
       "      <td>1975</td>\n",
       "      <td>Ireland</td>\n",
       "      <td>Female</td>\n",
       "    </tr>\n",
       "    <tr>\n",
       "      <th>4</th>\n",
       "      <td>20141029_CM110</td>\n",
       "      <td>20141029</td>\n",
       "      <td>CM110</td>\n",
       "      <td>SNP70</td>\n",
       "      <td>1976</td>\n",
       "      <td>Ireland</td>\n",
       "      <td>Female</td>\n",
       "    </tr>\n",
       "  </tbody>\n",
       "</table>\n",
       "</div>"
      ],
      "text/plain": [
       "                    id   batchID  equinomeID SNPChip Year of Birth  \\\n",
       "0  20160112_JSB001_409  20160112  JSB001_409  SNP670          1971   \n",
       "1       20141029_CM108  20141029       CM108   SNP70          1973   \n",
       "2       20100101_CM002  20100101       CM002   SNP50          1974   \n",
       "3       20100101_CM104  20100101       CM104   SNP50          1975   \n",
       "4       20141029_CM110  20141029       CM110   SNP70          1976   \n",
       "\n",
       "  Country Reported     sex  \n",
       "0          Ireland  Female  \n",
       "1          Ireland  Female  \n",
       "2          Ireland    Male  \n",
       "3          Ireland  Female  \n",
       "4          Ireland  Female  "
      ]
     },
     "execution_count": 7,
     "metadata": {},
     "output_type": "execute_result"
    }
   ],
   "source": [
    "geno_id.head()"
   ]
  },
  {
   "cell_type": "code",
   "execution_count": 11,
   "metadata": {},
   "outputs": [
    {
     "data": {
      "text/plain": [
       "(11183, 7)"
      ]
     },
     "execution_count": 11,
     "metadata": {},
     "output_type": "execute_result"
    }
   ],
   "source": [
    "geno_id.shape"
   ]
  },
  {
   "cell_type": "code",
   "execution_count": 61,
   "metadata": {},
   "outputs": [
    {
     "data": {
      "text/plain": [
       "11183"
      ]
     },
     "execution_count": 61,
     "metadata": {},
     "output_type": "execute_result"
    }
   ],
   "source": [
    "geno_id.id.nunique()"
   ]
  },
  {
   "cell_type": "code",
   "execution_count": 62,
   "metadata": {},
   "outputs": [
    {
     "data": {
      "text/plain": [
       "11107"
      ]
     },
     "execution_count": 62,
     "metadata": {},
     "output_type": "execute_result"
    }
   ],
   "source": [
    "geno_id.equinomeID.nunique()"
   ]
  },
  {
   "cell_type": "code",
   "execution_count": null,
   "metadata": {},
   "outputs": [],
   "source": []
  },
  {
   "cell_type": "code",
   "execution_count": 5,
   "metadata": {},
   "outputs": [
    {
     "data": {
      "text/html": [
       "<div>\n",
       "<style scoped>\n",
       "    .dataframe tbody tr th:only-of-type {\n",
       "        vertical-align: middle;\n",
       "    }\n",
       "\n",
       "    .dataframe tbody tr th {\n",
       "        vertical-align: top;\n",
       "    }\n",
       "\n",
       "    .dataframe thead th {\n",
       "        text-align: right;\n",
       "    }\n",
       "</style>\n",
       "<table border=\"1\" class=\"dataframe\">\n",
       "  <thead>\n",
       "    <tr style=\"text-align: right;\">\n",
       "      <th></th>\n",
       "      <th>id</th>\n",
       "      <th>batchID</th>\n",
       "      <th>equinomeID</th>\n",
       "      <th>SNPChip</th>\n",
       "      <th>Year of Birth</th>\n",
       "      <th>sex</th>\n",
       "      <th>Country Reported</th>\n",
       "      <th>Horse Name</th>\n",
       "      <th>Sire</th>\n",
       "      <th>Dam</th>\n",
       "      <th>Month of Birth</th>\n",
       "      <th>Country of Birth</th>\n",
       "    </tr>\n",
       "  </thead>\n",
       "  <tbody>\n",
       "    <tr>\n",
       "      <th>0</th>\n",
       "      <td>20100101_103</td>\n",
       "      <td>20100101</td>\n",
       "      <td>103</td>\n",
       "      <td>SNP50</td>\n",
       "      <td>2003</td>\n",
       "      <td>Male</td>\n",
       "      <td>New Zealand</td>\n",
       "      <td>Condesire</td>\n",
       "      <td>Traditionally</td>\n",
       "      <td>Fine Feather</td>\n",
       "      <td>September</td>\n",
       "      <td>New Zealand</td>\n",
       "    </tr>\n",
       "    <tr>\n",
       "      <th>1</th>\n",
       "      <td>20100101_GB5</td>\n",
       "      <td>20100101</td>\n",
       "      <td>GB5</td>\n",
       "      <td>SNP50</td>\n",
       "      <td>1999</td>\n",
       "      <td>Female</td>\n",
       "      <td>Ireland</td>\n",
       "      <td>Susan Glen</td>\n",
       "      <td>Sacrament</td>\n",
       "      <td>SanvacGlen</td>\n",
       "      <td>May</td>\n",
       "      <td>Ireland</td>\n",
       "    </tr>\n",
       "    <tr>\n",
       "      <th>2</th>\n",
       "      <td>20100101_GF01</td>\n",
       "      <td>20100101</td>\n",
       "      <td>GF01</td>\n",
       "      <td>SNP50</td>\n",
       "      <td>2000</td>\n",
       "      <td>Male</td>\n",
       "      <td>Ireland</td>\n",
       "      <td>Rossmore Castle</td>\n",
       "      <td>WitnessBox</td>\n",
       "      <td>LatinQuarter</td>\n",
       "      <td>June</td>\n",
       "      <td>Ireland</td>\n",
       "    </tr>\n",
       "    <tr>\n",
       "      <th>3</th>\n",
       "      <td>20100101_GF03</td>\n",
       "      <td>20100101</td>\n",
       "      <td>GF03</td>\n",
       "      <td>SNP50</td>\n",
       "      <td>2003</td>\n",
       "      <td>Male</td>\n",
       "      <td>Ireland</td>\n",
       "      <td>Radiator Rooney</td>\n",
       "      <td>Elnadim</td>\n",
       "      <td>QueenofTheMay</td>\n",
       "      <td>April</td>\n",
       "      <td>Ireland</td>\n",
       "    </tr>\n",
       "    <tr>\n",
       "      <th>4</th>\n",
       "      <td>20100101_JSB049</td>\n",
       "      <td>20100101</td>\n",
       "      <td>JSB049</td>\n",
       "      <td>SNP50</td>\n",
       "      <td>2004</td>\n",
       "      <td>Female</td>\n",
       "      <td>Ireland</td>\n",
       "      <td>Ambereen</td>\n",
       "      <td>Lils Boy</td>\n",
       "      <td>Aeraiocht</td>\n",
       "      <td>February</td>\n",
       "      <td>Ireland</td>\n",
       "    </tr>\n",
       "  </tbody>\n",
       "</table>\n",
       "</div>"
      ],
      "text/plain": [
       "                id   batchID equinomeID SNPChip Year of Birth     sex  \\\n",
       "0     20100101_103  20100101        103   SNP50          2003    Male   \n",
       "1     20100101_GB5  20100101        GB5   SNP50          1999  Female   \n",
       "2    20100101_GF01  20100101       GF01   SNP50          2000    Male   \n",
       "3    20100101_GF03  20100101       GF03   SNP50          2003    Male   \n",
       "4  20100101_JSB049  20100101     JSB049   SNP50          2004  Female   \n",
       "\n",
       "  Country Reported       Horse Name           Sire            Dam  \\\n",
       "0      New Zealand        Condesire  Traditionally   Fine Feather   \n",
       "1          Ireland       Susan Glen      Sacrament     SanvacGlen   \n",
       "2          Ireland  Rossmore Castle     WitnessBox   LatinQuarter   \n",
       "3          Ireland  Radiator Rooney        Elnadim  QueenofTheMay   \n",
       "4          Ireland         Ambereen       Lils Boy      Aeraiocht   \n",
       "\n",
       "  Month of Birth Country of Birth  \n",
       "0      September      New Zealand  \n",
       "1            May          Ireland  \n",
       "2           June          Ireland  \n",
       "3          April          Ireland  \n",
       "4       February          Ireland  "
      ]
     },
     "execution_count": 5,
     "metadata": {},
     "output_type": "execute_result"
    }
   ],
   "source": [
    "ped_addit.head()"
   ]
  },
  {
   "cell_type": "code",
   "execution_count": 7,
   "metadata": {},
   "outputs": [
    {
     "data": {
      "text/plain": [
       "Index(['id', 'batchID', 'equinomeID', 'SNPChip', 'Year of Birth', 'sex',\n",
       "       'Country Reported', 'Horse Name', 'Sire', 'Dam', 'Month of Birth',\n",
       "       'Country of Birth'],\n",
       "      dtype='object')"
      ]
     },
     "execution_count": 7,
     "metadata": {},
     "output_type": "execute_result"
    }
   ],
   "source": [
    "ped_addit.columns"
   ]
  },
  {
   "cell_type": "code",
   "execution_count": 6,
   "metadata": {},
   "outputs": [
    {
     "data": {
      "text/plain": [
       "(5814, 12)"
      ]
     },
     "execution_count": 6,
     "metadata": {},
     "output_type": "execute_result"
    }
   ],
   "source": [
    "ped_addit.shape"
   ]
  },
  {
   "cell_type": "code",
   "execution_count": 8,
   "metadata": {},
   "outputs": [
    {
     "data": {
      "text/html": [
       "<div>\n",
       "<style scoped>\n",
       "    .dataframe tbody tr th:only-of-type {\n",
       "        vertical-align: middle;\n",
       "    }\n",
       "\n",
       "    .dataframe tbody tr th {\n",
       "        vertical-align: top;\n",
       "    }\n",
       "\n",
       "    .dataframe thead th {\n",
       "        text-align: right;\n",
       "    }\n",
       "</style>\n",
       "<table border=\"1\" class=\"dataframe\">\n",
       "  <thead>\n",
       "    <tr style=\"text-align: right;\">\n",
       "      <th></th>\n",
       "      <th>id</th>\n",
       "      <th>batchID</th>\n",
       "      <th>equinomeID</th>\n",
       "      <th>SNPChip</th>\n",
       "      <th>Year of Birth</th>\n",
       "      <th>sex</th>\n",
       "      <th>Country Reported</th>\n",
       "      <th>Horse Name</th>\n",
       "      <th>Sire</th>\n",
       "      <th>Dam</th>\n",
       "      <th>Month of Birth</th>\n",
       "      <th>Country of Birth</th>\n",
       "    </tr>\n",
       "  </thead>\n",
       "  <tbody>\n",
       "  </tbody>\n",
       "</table>\n",
       "</div>"
      ],
      "text/plain": [
       "Empty DataFrame\n",
       "Columns: [id, batchID, equinomeID, SNPChip, Year of Birth, sex, Country Reported, Horse Name, Sire, Dam, Month of Birth, Country of Birth]\n",
       "Index: []"
      ]
     },
     "execution_count": 8,
     "metadata": {},
     "output_type": "execute_result"
    }
   ],
   "source": [
    "ped_addit[ped_addit.duplicated(\"id\")]"
   ]
  },
  {
   "cell_type": "code",
   "execution_count": 12,
   "metadata": {},
   "outputs": [
    {
     "data": {
      "text/html": [
       "<div>\n",
       "<style scoped>\n",
       "    .dataframe tbody tr th:only-of-type {\n",
       "        vertical-align: middle;\n",
       "    }\n",
       "\n",
       "    .dataframe tbody tr th {\n",
       "        vertical-align: top;\n",
       "    }\n",
       "\n",
       "    .dataframe thead th {\n",
       "        text-align: right;\n",
       "    }\n",
       "</style>\n",
       "<table border=\"1\" class=\"dataframe\">\n",
       "  <thead>\n",
       "    <tr style=\"text-align: right;\">\n",
       "      <th></th>\n",
       "      <th>id</th>\n",
       "      <th>batchID</th>\n",
       "      <th>equinomeID</th>\n",
       "      <th>SNPChip</th>\n",
       "      <th>Year of Birth</th>\n",
       "      <th>sex</th>\n",
       "      <th>Country Reported</th>\n",
       "      <th>Horse Name</th>\n",
       "      <th>Sire</th>\n",
       "      <th>Dam</th>\n",
       "      <th>Month of Birth</th>\n",
       "      <th>Country of Birth</th>\n",
       "    </tr>\n",
       "  </thead>\n",
       "  <tbody>\n",
       "    <tr>\n",
       "      <th>83</th>\n",
       "      <td>20141020_BAR001_021</td>\n",
       "      <td>20141020</td>\n",
       "      <td>BAR001_021</td>\n",
       "      <td>SNP70</td>\n",
       "      <td>2012</td>\n",
       "      <td>Male</td>\n",
       "      <td>Australia</td>\n",
       "      <td>Yum Sing</td>\n",
       "      <td>Congrats</td>\n",
       "      <td>Hennessy Belle</td>\n",
       "      <td>October</td>\n",
       "      <td>Australia</td>\n",
       "    </tr>\n",
       "    <tr>\n",
       "      <th>1605</th>\n",
       "      <td>20160627_BAR001_021</td>\n",
       "      <td>20160627</td>\n",
       "      <td>BAR001_021</td>\n",
       "      <td>SNP70</td>\n",
       "      <td>2012</td>\n",
       "      <td>Male</td>\n",
       "      <td>Australia</td>\n",
       "      <td>Yum Sing</td>\n",
       "      <td>Congrats</td>\n",
       "      <td>Hennessy Belle</td>\n",
       "      <td>October</td>\n",
       "      <td>Australia</td>\n",
       "    </tr>\n",
       "    <tr>\n",
       "      <th>1608</th>\n",
       "      <td>20160627_BAR001_032</td>\n",
       "      <td>20160627</td>\n",
       "      <td>BAR001_032</td>\n",
       "      <td>SNP70</td>\n",
       "      <td>2012</td>\n",
       "      <td>Male</td>\n",
       "      <td>Australia</td>\n",
       "      <td>Congratulations</td>\n",
       "      <td>Congrats</td>\n",
       "      <td>Double Strength</td>\n",
       "      <td>September</td>\n",
       "      <td>Australia</td>\n",
       "    </tr>\n",
       "    <tr>\n",
       "      <th>410</th>\n",
       "      <td>20150105_BAR001_032</td>\n",
       "      <td>20150105</td>\n",
       "      <td>BAR001_032</td>\n",
       "      <td>SNP70</td>\n",
       "      <td>2012</td>\n",
       "      <td>Male</td>\n",
       "      <td>Australia</td>\n",
       "      <td>Congratulations</td>\n",
       "      <td>Congrats</td>\n",
       "      <td>Double Strength</td>\n",
       "      <td>September</td>\n",
       "      <td>Australia</td>\n",
       "    </tr>\n",
       "    <tr>\n",
       "      <th>2103</th>\n",
       "      <td>20170214_CUM001_117</td>\n",
       "      <td>20170214</td>\n",
       "      <td>CUM001_117</td>\n",
       "      <td>SNP70_PVL</td>\n",
       "      <td>2013</td>\n",
       "      <td>Female</td>\n",
       "      <td>Great Britain</td>\n",
       "      <td>Angela North</td>\n",
       "      <td>Canford Cliffs</td>\n",
       "      <td>Vallota</td>\n",
       "      <td>April</td>\n",
       "      <td>Great Britain</td>\n",
       "    </tr>\n",
       "    <tr>\n",
       "      <th>...</th>\n",
       "      <td>...</td>\n",
       "      <td>...</td>\n",
       "      <td>...</td>\n",
       "      <td>...</td>\n",
       "      <td>...</td>\n",
       "      <td>...</td>\n",
       "      <td>...</td>\n",
       "      <td>...</td>\n",
       "      <td>...</td>\n",
       "      <td>...</td>\n",
       "      <td>...</td>\n",
       "      <td>...</td>\n",
       "    </tr>\n",
       "    <tr>\n",
       "      <th>838</th>\n",
       "      <td>20150813_SFI152</td>\n",
       "      <td>20150813</td>\n",
       "      <td>SFI152</td>\n",
       "      <td>SNP670</td>\n",
       "      <td>2012</td>\n",
       "      <td>Male</td>\n",
       "      <td>Ireland</td>\n",
       "      <td>Family Pride</td>\n",
       "      <td>Proud Citizen</td>\n",
       "      <td>Family</td>\n",
       "      <td>March</td>\n",
       "      <td>Ireland</td>\n",
       "    </tr>\n",
       "    <tr>\n",
       "      <th>427</th>\n",
       "      <td>20150105_TLS001_002</td>\n",
       "      <td>20150105</td>\n",
       "      <td>TLS001_002</td>\n",
       "      <td>SNP70</td>\n",
       "      <td>2012</td>\n",
       "      <td>Female</td>\n",
       "      <td>Australia</td>\n",
       "      <td>Noaf</td>\n",
       "      <td>Commands</td>\n",
       "      <td>Crossyourheart</td>\n",
       "      <td>September</td>\n",
       "      <td>Australia</td>\n",
       "    </tr>\n",
       "    <tr>\n",
       "      <th>1601</th>\n",
       "      <td>20160614_TLS001_002</td>\n",
       "      <td>20160614</td>\n",
       "      <td>TLS001_002</td>\n",
       "      <td>SNP70</td>\n",
       "      <td>2012</td>\n",
       "      <td>Female</td>\n",
       "      <td>Australia</td>\n",
       "      <td>Noaf</td>\n",
       "      <td>Commands</td>\n",
       "      <td>Crossyourheart</td>\n",
       "      <td>September</td>\n",
       "      <td>Australia</td>\n",
       "    </tr>\n",
       "    <tr>\n",
       "      <th>429</th>\n",
       "      <td>20150105_WPS001_010</td>\n",
       "      <td>20150105</td>\n",
       "      <td>WPS001_010</td>\n",
       "      <td>SNP70</td>\n",
       "      <td>2012</td>\n",
       "      <td>Male</td>\n",
       "      <td>Australia</td>\n",
       "      <td>Astro Fame</td>\n",
       "      <td>Encosta de Lago</td>\n",
       "      <td>Special Episode</td>\n",
       "      <td>September</td>\n",
       "      <td>Australia</td>\n",
       "    </tr>\n",
       "    <tr>\n",
       "      <th>1484</th>\n",
       "      <td>20160517_WPS001_010</td>\n",
       "      <td>20160517</td>\n",
       "      <td>WPS001_010</td>\n",
       "      <td>SNP70</td>\n",
       "      <td>2012</td>\n",
       "      <td>Male</td>\n",
       "      <td>Australia</td>\n",
       "      <td>Astro Fame</td>\n",
       "      <td>Encosta de Lago</td>\n",
       "      <td>Special Episode</td>\n",
       "      <td>September</td>\n",
       "      <td>Australia</td>\n",
       "    </tr>\n",
       "  </tbody>\n",
       "</table>\n",
       "<p>156 rows × 12 columns</p>\n",
       "</div>"
      ],
      "text/plain": [
       "                       id   batchID  equinomeID    SNPChip Year of Birth  \\\n",
       "83    20141020_BAR001_021  20141020  BAR001_021      SNP70          2012   \n",
       "1605  20160627_BAR001_021  20160627  BAR001_021      SNP70          2012   \n",
       "1608  20160627_BAR001_032  20160627  BAR001_032      SNP70          2012   \n",
       "410   20150105_BAR001_032  20150105  BAR001_032      SNP70          2012   \n",
       "2103  20170214_CUM001_117  20170214  CUM001_117  SNP70_PVL          2013   \n",
       "...                   ...       ...         ...        ...           ...   \n",
       "838       20150813_SFI152  20150813      SFI152     SNP670          2012   \n",
       "427   20150105_TLS001_002  20150105  TLS001_002      SNP70          2012   \n",
       "1601  20160614_TLS001_002  20160614  TLS001_002      SNP70          2012   \n",
       "429   20150105_WPS001_010  20150105  WPS001_010      SNP70          2012   \n",
       "1484  20160517_WPS001_010  20160517  WPS001_010      SNP70          2012   \n",
       "\n",
       "         sex Country Reported       Horse Name             Sire  \\\n",
       "83      Male        Australia         Yum Sing         Congrats   \n",
       "1605    Male        Australia         Yum Sing         Congrats   \n",
       "1608    Male        Australia  Congratulations         Congrats   \n",
       "410     Male        Australia  Congratulations         Congrats   \n",
       "2103  Female    Great Britain     Angela North   Canford Cliffs   \n",
       "...      ...              ...              ...              ...   \n",
       "838     Male          Ireland     Family Pride    Proud Citizen   \n",
       "427   Female        Australia             Noaf         Commands   \n",
       "1601  Female        Australia             Noaf         Commands   \n",
       "429     Male        Australia       Astro Fame  Encosta de Lago   \n",
       "1484    Male        Australia       Astro Fame  Encosta de Lago   \n",
       "\n",
       "                  Dam Month of Birth Country of Birth  \n",
       "83     Hennessy Belle        October        Australia  \n",
       "1605   Hennessy Belle        October        Australia  \n",
       "1608  Double Strength      September        Australia  \n",
       "410   Double Strength      September        Australia  \n",
       "2103          Vallota          April    Great Britain  \n",
       "...               ...            ...              ...  \n",
       "838            Family          March          Ireland  \n",
       "427    Crossyourheart      September        Australia  \n",
       "1601   Crossyourheart      September        Australia  \n",
       "429   Special Episode      September        Australia  \n",
       "1484  Special Episode      September        Australia  \n",
       "\n",
       "[156 rows x 12 columns]"
      ]
     },
     "execution_count": 12,
     "metadata": {},
     "output_type": "execute_result"
    }
   ],
   "source": [
    "ped_addit[ped_addit.duplicated(\"equinomeID\", keep=False)] \\\n",
    "    .sort_values(\"equinomeID\")"
   ]
  },
  {
   "cell_type": "code",
   "execution_count": 13,
   "metadata": {},
   "outputs": [
    {
     "data": {
      "text/html": [
       "<div>\n",
       "<style scoped>\n",
       "    .dataframe tbody tr th:only-of-type {\n",
       "        vertical-align: middle;\n",
       "    }\n",
       "\n",
       "    .dataframe tbody tr th {\n",
       "        vertical-align: top;\n",
       "    }\n",
       "\n",
       "    .dataframe thead th {\n",
       "        text-align: right;\n",
       "    }\n",
       "</style>\n",
       "<table border=\"1\" class=\"dataframe\">\n",
       "  <thead>\n",
       "    <tr style=\"text-align: right;\">\n",
       "      <th></th>\n",
       "      <th>id</th>\n",
       "      <th>status</th>\n",
       "      <th>name</th>\n",
       "      <th>sire_id</th>\n",
       "      <th>dam_id</th>\n",
       "      <th>YOB</th>\n",
       "      <th>sex</th>\n",
       "      <th>colour</th>\n",
       "      <th>COB</th>\n",
       "    </tr>\n",
       "  </thead>\n",
       "  <tbody>\n",
       "    <tr>\n",
       "      <th>0</th>\n",
       "      <td>7</td>\n",
       "      <td>0</td>\n",
       "      <td>battle joined</td>\n",
       "      <td>3</td>\n",
       "      <td>6</td>\n",
       "      <td>1959</td>\n",
       "      <td>1</td>\n",
       "      <td>b.</td>\n",
       "      <td>USA</td>\n",
       "    </tr>\n",
       "    <tr>\n",
       "      <th>1</th>\n",
       "      <td>177841</td>\n",
       "      <td>0</td>\n",
       "      <td>armed venus</td>\n",
       "      <td>3</td>\n",
       "      <td>452020</td>\n",
       "      <td>1958</td>\n",
       "      <td>2</td>\n",
       "      <td>b.</td>\n",
       "      <td>USA</td>\n",
       "    </tr>\n",
       "    <tr>\n",
       "      <th>2</th>\n",
       "      <td>448331</td>\n",
       "      <td>0</td>\n",
       "      <td>gentility</td>\n",
       "      <td>3</td>\n",
       "      <td>448330</td>\n",
       "      <td>1961</td>\n",
       "      <td>2</td>\n",
       "      <td>b.</td>\n",
       "      <td>USA</td>\n",
       "    </tr>\n",
       "    <tr>\n",
       "      <th>3</th>\n",
       "      <td>15</td>\n",
       "      <td>0</td>\n",
       "      <td>ack ack</td>\n",
       "      <td>7</td>\n",
       "      <td>14</td>\n",
       "      <td>1966</td>\n",
       "      <td>1</td>\n",
       "      <td>b.</td>\n",
       "      <td>USA</td>\n",
       "    </tr>\n",
       "    <tr>\n",
       "      <th>4</th>\n",
       "      <td>383725</td>\n",
       "      <td>0</td>\n",
       "      <td>jungle war</td>\n",
       "      <td>7</td>\n",
       "      <td>383724</td>\n",
       "      <td>1964</td>\n",
       "      <td>2</td>\n",
       "      <td>b.</td>\n",
       "      <td>USA</td>\n",
       "    </tr>\n",
       "  </tbody>\n",
       "</table>\n",
       "</div>"
      ],
      "text/plain": [
       "       id status           name sire_id  dam_id   YOB sex colour  COB\n",
       "0       7      0  battle joined       3       6  1959   1     b.  USA\n",
       "1  177841      0    armed venus       3  452020  1958   2     b.  USA\n",
       "2  448331      0      gentility       3  448330  1961   2     b.  USA\n",
       "3      15      0        ack ack       7      14  1966   1     b.  USA\n",
       "4  383725      0     jungle war       7  383724  1964   2     b.  USA"
      ]
     },
     "execution_count": 13,
     "metadata": {},
     "output_type": "execute_result"
    }
   ],
   "source": [
    "ped_df.head()"
   ]
  }
 ],
 "metadata": {
  "kernelspec": {
   "display_name": "base",
   "language": "python",
   "name": "python3"
  },
  "language_info": {
   "codemirror_mode": {
    "name": "ipython",
    "version": 3
   },
   "file_extension": ".py",
   "mimetype": "text/x-python",
   "name": "python",
   "nbconvert_exporter": "python",
   "pygments_lexer": "ipython3",
   "version": "3.10.10"
  }
 },
 "nbformat": 4,
 "nbformat_minor": 2
}
