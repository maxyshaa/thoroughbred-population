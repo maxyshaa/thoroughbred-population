{
 "cells": [
  {
   "cell_type": "markdown",
   "metadata": {},
   "source": [
    "This notebook is meant to give basic idea of how pedigree files were provided and what kinf of information they have. In addition, here is presented a basic statistics of raw files as well as highlighted some issues that could help in constructing the script for reformatting and merging 2 pedigrees."
   ]
  },
  {
   "cell_type": "code",
   "execution_count": 3,
   "metadata": {},
   "outputs": [
    {
     "name": "stderr",
     "output_type": "stream",
     "text": [
      "/tmp/ipykernel_6530/523115141.py:1: DeprecationWarning: \n",
      "Pyarrow will become a required dependency of pandas in the next major release of pandas (pandas 3.0),\n",
      "(to allow more performant data types, such as the Arrow string type, and better interoperability with other libraries)\n",
      "but was not found to be installed on your system.\n",
      "If this would cause problems for you,\n",
      "please provide us feedback at https://github.com/pandas-dev/pandas/issues/54466\n",
      "        \n",
      "  import pandas as pd\n"
     ]
    }
   ],
   "source": [
    "import pandas as pd\n",
    "import numpy as np\n",
    "import datetime as dt\n",
    "import matplotlib.pyplot as plt\n",
    "import seaborn as sns"
   ]
  },
  {
   "cell_type": "markdown",
   "metadata": {},
   "source": [
    "## 1 Loading data"
   ]
  },
  {
   "cell_type": "code",
   "execution_count": 4,
   "metadata": {},
   "outputs": [],
   "source": [
    "sheet_to_df_map = pd.read_excel(\"../data/raw_pedigree_part1.xlsx\", \n",
    "                                sheet_name=None, \n",
    "                                dtype=str,\n",
    "                                na_values=[\" \", \"\", \"None\"]) # just to unify missing values\n",
    "\n",
    "# the names of the sheets are:\n",
    "# PedIDMatch (matching suffixes of genome id written in plink files with ped id), \n",
    "# PedNew (pedigree phenotypes info), \n",
    "# GenotypeIDs (info about genotypes)\n",
    "\n",
    "pedid_match = sheet_to_df_map[\"PedIDMatch\"]\n",
    "ped_df = sheet_to_df_map[\"PedNew\"]\n",
    "geno_id = sheet_to_df_map[\"GenotypeIDs\"]\n",
    "\n",
    "# read a pedigree with additional 6k data without info on pedigree\n",
    "ped_addit = pd.read_csv(\"../data/raw_pedigree_part2.csv\", \n",
    "                        dtype=str, na_values=[\" \", \"\", \"None\"], \n",
    "                        usecols=range(12)).query(\"id.notna().values\") # to read only those rows that has an actual records"
   ]
  },
  {
   "cell_type": "markdown",
   "metadata": {},
   "source": [
    "##### PedIdMatch summary"
   ]
  },
  {
   "cell_type": "code",
   "execution_count": 5,
   "metadata": {},
   "outputs": [
    {
     "data": {
      "text/html": [
       "<div>\n",
       "<style scoped>\n",
       "    .dataframe tbody tr th:only-of-type {\n",
       "        vertical-align: middle;\n",
       "    }\n",
       "\n",
       "    .dataframe tbody tr th {\n",
       "        vertical-align: top;\n",
       "    }\n",
       "\n",
       "    .dataframe thead th {\n",
       "        text-align: right;\n",
       "    }\n",
       "</style>\n",
       "<table border=\"1\" class=\"dataframe\">\n",
       "  <thead>\n",
       "    <tr style=\"text-align: right;\">\n",
       "      <th></th>\n",
       "      <th>Equinome ID</th>\n",
       "      <th>Horse Name</th>\n",
       "      <th>horse_id</th>\n",
       "    </tr>\n",
       "  </thead>\n",
       "  <tbody>\n",
       "    <tr>\n",
       "      <th>0</th>\n",
       "      <td>82</td>\n",
       "      <td>A Goodlookin Broad</td>\n",
       "      <td>62</td>\n",
       "    </tr>\n",
       "    <tr>\n",
       "      <th>1</th>\n",
       "      <td>82_2</td>\n",
       "      <td>A Goodlookin Broad</td>\n",
       "      <td>62</td>\n",
       "    </tr>\n",
       "    <tr>\n",
       "      <th>2</th>\n",
       "      <td>CM012</td>\n",
       "      <td>Sadlers Wells</td>\n",
       "      <td>69</td>\n",
       "    </tr>\n",
       "    <tr>\n",
       "      <th>3</th>\n",
       "      <td>CM006</td>\n",
       "      <td>Fairy King</td>\n",
       "      <td>98</td>\n",
       "    </tr>\n",
       "    <tr>\n",
       "      <th>4</th>\n",
       "      <td>CM015</td>\n",
       "      <td>Turtle Island</td>\n",
       "      <td>106</td>\n",
       "    </tr>\n",
       "  </tbody>\n",
       "</table>\n",
       "</div>"
      ],
      "text/plain": [
       "  Equinome ID          Horse Name horse_id\n",
       "0          82  A Goodlookin Broad       62\n",
       "1        82_2  A Goodlookin Broad       62\n",
       "2       CM012       Sadlers Wells       69\n",
       "3       CM006          Fairy King       98\n",
       "4       CM015       Turtle Island      106"
      ]
     },
     "execution_count": 5,
     "metadata": {},
     "output_type": "execute_result"
    }
   ],
   "source": [
    "pedid_match.head()"
   ]
  },
  {
   "cell_type": "code",
   "execution_count": 6,
   "metadata": {},
   "outputs": [
    {
     "data": {
      "text/plain": [
       "14695"
      ]
     },
     "execution_count": 6,
     "metadata": {},
     "output_type": "execute_result"
    }
   ],
   "source": [
    "pedid_match[\"Equinome ID\"].nunique()"
   ]
  },
  {
   "cell_type": "code",
   "execution_count": 7,
   "metadata": {},
   "outputs": [
    {
     "data": {
      "text/plain": [
       "13877"
      ]
     },
     "execution_count": 7,
     "metadata": {},
     "output_type": "execute_result"
    }
   ],
   "source": [
    "pedid_match[\"horse_id\"].nunique()"
   ]
  },
  {
   "cell_type": "code",
   "execution_count": 8,
   "metadata": {},
   "outputs": [
    {
     "data": {
      "text/plain": [
       "(14695, 3)"
      ]
     },
     "execution_count": 8,
     "metadata": {},
     "output_type": "execute_result"
    }
   ],
   "source": [
    "pedid_match.shape"
   ]
  },
  {
   "cell_type": "code",
   "execution_count": 9,
   "metadata": {},
   "outputs": [
    {
     "data": {
      "text/plain": [
       "(762, 2)"
      ]
     },
     "execution_count": 9,
     "metadata": {},
     "output_type": "execute_result"
    }
   ],
   "source": [
    "pedid_match.groupby(\"horse_id\", as_index=False).agg({\"Equinome ID\": \"count\"}).query(\"`Equinome ID` > 1\").shape"
   ]
  },
  {
   "cell_type": "code",
   "execution_count": 10,
   "metadata": {},
   "outputs": [
    {
     "data": {
      "text/plain": [
       "(56, 2)"
      ]
     },
     "execution_count": 10,
     "metadata": {},
     "output_type": "execute_result"
    }
   ],
   "source": [
    "pedid_match.groupby(\"horse_id\", as_index=False).agg({\"Equinome ID\": \"count\"}).query(\"`Equinome ID` > 2\").shape"
   ]
  },
  {
   "cell_type": "code",
   "execution_count": 11,
   "metadata": {},
   "outputs": [
    {
     "data": {
      "text/plain": [
       "(0, 2)"
      ]
     },
     "execution_count": 11,
     "metadata": {},
     "output_type": "execute_result"
    }
   ],
   "source": [
    "pedid_match.groupby(\"horse_id\", as_index=False).agg({\"Equinome ID\": \"count\"}).query(\"`Equinome ID` > 3\").shape"
   ]
  },
  {
   "cell_type": "code",
   "execution_count": 12,
   "metadata": {},
   "outputs": [
    {
     "data": {
      "text/plain": [
       "(14695, 3)"
      ]
     },
     "execution_count": 12,
     "metadata": {},
     "output_type": "execute_result"
    }
   ],
   "source": [
    "pedid_match.shape"
   ]
  },
  {
   "cell_type": "code",
   "execution_count": 13,
   "metadata": {},
   "outputs": [
    {
     "data": {
      "text/plain": [
       "Equinome ID    False\n",
       "Horse Name     False\n",
       "horse_id       False\n",
       "dtype: bool"
      ]
     },
     "execution_count": 13,
     "metadata": {},
     "output_type": "execute_result"
    }
   ],
   "source": [
    "pedid_match.isna().any()"
   ]
  },
  {
   "cell_type": "markdown",
   "metadata": {},
   "source": [
    "##### PedNew summary"
   ]
  },
  {
   "cell_type": "code",
   "execution_count": 15,
   "metadata": {},
   "outputs": [
    {
     "data": {
      "text/html": [
       "<div>\n",
       "<style scoped>\n",
       "    .dataframe tbody tr th:only-of-type {\n",
       "        vertical-align: middle;\n",
       "    }\n",
       "\n",
       "    .dataframe tbody tr th {\n",
       "        vertical-align: top;\n",
       "    }\n",
       "\n",
       "    .dataframe thead th {\n",
       "        text-align: right;\n",
       "    }\n",
       "</style>\n",
       "<table border=\"1\" class=\"dataframe\">\n",
       "  <thead>\n",
       "    <tr style=\"text-align: right;\">\n",
       "      <th></th>\n",
       "      <th>id</th>\n",
       "      <th>status</th>\n",
       "      <th>name</th>\n",
       "      <th>sire_id</th>\n",
       "      <th>dam_id</th>\n",
       "      <th>YOB</th>\n",
       "      <th>sex</th>\n",
       "      <th>colour</th>\n",
       "      <th>COB</th>\n",
       "    </tr>\n",
       "  </thead>\n",
       "  <tbody>\n",
       "    <tr>\n",
       "      <th>0</th>\n",
       "      <td>7</td>\n",
       "      <td>0</td>\n",
       "      <td>battle joined</td>\n",
       "      <td>3</td>\n",
       "      <td>6</td>\n",
       "      <td>1959</td>\n",
       "      <td>1</td>\n",
       "      <td>b.</td>\n",
       "      <td>USA</td>\n",
       "    </tr>\n",
       "    <tr>\n",
       "      <th>1</th>\n",
       "      <td>177841</td>\n",
       "      <td>0</td>\n",
       "      <td>armed venus</td>\n",
       "      <td>3</td>\n",
       "      <td>452020</td>\n",
       "      <td>1958</td>\n",
       "      <td>2</td>\n",
       "      <td>b.</td>\n",
       "      <td>USA</td>\n",
       "    </tr>\n",
       "    <tr>\n",
       "      <th>2</th>\n",
       "      <td>448331</td>\n",
       "      <td>0</td>\n",
       "      <td>gentility</td>\n",
       "      <td>3</td>\n",
       "      <td>448330</td>\n",
       "      <td>1961</td>\n",
       "      <td>2</td>\n",
       "      <td>b.</td>\n",
       "      <td>USA</td>\n",
       "    </tr>\n",
       "    <tr>\n",
       "      <th>3</th>\n",
       "      <td>15</td>\n",
       "      <td>0</td>\n",
       "      <td>ack ack</td>\n",
       "      <td>7</td>\n",
       "      <td>14</td>\n",
       "      <td>1966</td>\n",
       "      <td>1</td>\n",
       "      <td>b.</td>\n",
       "      <td>USA</td>\n",
       "    </tr>\n",
       "    <tr>\n",
       "      <th>4</th>\n",
       "      <td>383725</td>\n",
       "      <td>0</td>\n",
       "      <td>jungle war</td>\n",
       "      <td>7</td>\n",
       "      <td>383724</td>\n",
       "      <td>1964</td>\n",
       "      <td>2</td>\n",
       "      <td>b.</td>\n",
       "      <td>USA</td>\n",
       "    </tr>\n",
       "  </tbody>\n",
       "</table>\n",
       "</div>"
      ],
      "text/plain": [
       "       id status           name sire_id  dam_id   YOB sex colour  COB\n",
       "0       7      0  battle joined       3       6  1959   1     b.  USA\n",
       "1  177841      0    armed venus       3  452020  1958   2     b.  USA\n",
       "2  448331      0      gentility       3  448330  1961   2     b.  USA\n",
       "3      15      0        ack ack       7      14  1966   1     b.  USA\n",
       "4  383725      0     jungle war       7  383724  1964   2     b.  USA"
      ]
     },
     "execution_count": 15,
     "metadata": {},
     "output_type": "execute_result"
    }
   ],
   "source": [
    "# PedNew\n",
    "ped_df.head()"
   ]
  },
  {
   "cell_type": "code",
   "execution_count": 16,
   "metadata": {},
   "outputs": [
    {
     "data": {
      "text/plain": [
       "(68655, 9)"
      ]
     },
     "execution_count": 16,
     "metadata": {},
     "output_type": "execute_result"
    }
   ],
   "source": [
    "ped_df.shape"
   ]
  },
  {
   "cell_type": "code",
   "execution_count": 17,
   "metadata": {},
   "outputs": [
    {
     "data": {
      "text/plain": [
       "68655"
      ]
     },
     "execution_count": 17,
     "metadata": {},
     "output_type": "execute_result"
    }
   ],
   "source": [
    "ped_df.id.nunique()"
   ]
  },
  {
   "cell_type": "code",
   "execution_count": 21,
   "metadata": {},
   "outputs": [
    {
     "data": {
      "text/html": [
       "<div>\n",
       "<style scoped>\n",
       "    .dataframe tbody tr th:only-of-type {\n",
       "        vertical-align: middle;\n",
       "    }\n",
       "\n",
       "    .dataframe tbody tr th {\n",
       "        vertical-align: top;\n",
       "    }\n",
       "\n",
       "    .dataframe thead th {\n",
       "        text-align: right;\n",
       "    }\n",
       "</style>\n",
       "<table border=\"1\" class=\"dataframe\">\n",
       "  <thead>\n",
       "    <tr style=\"text-align: right;\">\n",
       "      <th></th>\n",
       "      <th>id</th>\n",
       "      <th>status</th>\n",
       "      <th>name</th>\n",
       "      <th>sire_id</th>\n",
       "      <th>dam_id</th>\n",
       "      <th>YOB</th>\n",
       "      <th>sex</th>\n",
       "      <th>colour</th>\n",
       "      <th>COB</th>\n",
       "    </tr>\n",
       "  </thead>\n",
       "  <tbody>\n",
       "    <tr>\n",
       "      <th>56785</th>\n",
       "      <td>196235</td>\n",
       "      <td>3</td>\n",
       "      <td>abadan</td>\n",
       "      <td>NaN</td>\n",
       "      <td>NaN</td>\n",
       "      <td>NaN</td>\n",
       "      <td>1</td>\n",
       "      <td>NaN</td>\n",
       "      <td>GB</td>\n",
       "    </tr>\n",
       "    <tr>\n",
       "      <th>56792</th>\n",
       "      <td>265453</td>\n",
       "      <td>3</td>\n",
       "      <td>abadan</td>\n",
       "      <td>NaN</td>\n",
       "      <td>NaN</td>\n",
       "      <td>NaN</td>\n",
       "      <td>1</td>\n",
       "      <td>NaN</td>\n",
       "      <td>GB</td>\n",
       "    </tr>\n",
       "    <tr>\n",
       "      <th>56796</th>\n",
       "      <td>385381</td>\n",
       "      <td>3</td>\n",
       "      <td>abbots trace</td>\n",
       "      <td>NaN</td>\n",
       "      <td>NaN</td>\n",
       "      <td>NaN</td>\n",
       "      <td>1</td>\n",
       "      <td>NaN</td>\n",
       "      <td>IRE</td>\n",
       "    </tr>\n",
       "    <tr>\n",
       "      <th>56797</th>\n",
       "      <td>455953</td>\n",
       "      <td>3</td>\n",
       "      <td>abbots trace</td>\n",
       "      <td>NaN</td>\n",
       "      <td>NaN</td>\n",
       "      <td>NaN</td>\n",
       "      <td>1</td>\n",
       "      <td>NaN</td>\n",
       "      <td>IRE</td>\n",
       "    </tr>\n",
       "    <tr>\n",
       "      <th>56836</th>\n",
       "      <td>473013</td>\n",
       "      <td>3</td>\n",
       "      <td>abbots trace</td>\n",
       "      <td>NaN</td>\n",
       "      <td>NaN</td>\n",
       "      <td>NaN</td>\n",
       "      <td>1</td>\n",
       "      <td>NaN</td>\n",
       "      <td>IRE</td>\n",
       "    </tr>\n",
       "    <tr>\n",
       "      <th>...</th>\n",
       "      <td>...</td>\n",
       "      <td>...</td>\n",
       "      <td>...</td>\n",
       "      <td>...</td>\n",
       "      <td>...</td>\n",
       "      <td>...</td>\n",
       "      <td>...</td>\n",
       "      <td>...</td>\n",
       "      <td>...</td>\n",
       "    </tr>\n",
       "    <tr>\n",
       "      <th>68630</th>\n",
       "      <td>385541</td>\n",
       "      <td>3</td>\n",
       "      <td>zingara</td>\n",
       "      <td>NaN</td>\n",
       "      <td>NaN</td>\n",
       "      <td>NaN</td>\n",
       "      <td>2</td>\n",
       "      <td>NaN</td>\n",
       "      <td>FR</td>\n",
       "    </tr>\n",
       "    <tr>\n",
       "      <th>68631</th>\n",
       "      <td>444915</td>\n",
       "      <td>3</td>\n",
       "      <td>zingara</td>\n",
       "      <td>NaN</td>\n",
       "      <td>NaN</td>\n",
       "      <td>NaN</td>\n",
       "      <td>2</td>\n",
       "      <td>NaN</td>\n",
       "      <td>FR</td>\n",
       "    </tr>\n",
       "    <tr>\n",
       "      <th>68650</th>\n",
       "      <td>190775</td>\n",
       "      <td>3</td>\n",
       "      <td>zvornik</td>\n",
       "      <td>NaN</td>\n",
       "      <td>NaN</td>\n",
       "      <td>NaN</td>\n",
       "      <td>1</td>\n",
       "      <td>NaN</td>\n",
       "      <td>AUS</td>\n",
       "    </tr>\n",
       "    <tr>\n",
       "      <th>68651</th>\n",
       "      <td>295979</td>\n",
       "      <td>3</td>\n",
       "      <td>zvornik</td>\n",
       "      <td>NaN</td>\n",
       "      <td>NaN</td>\n",
       "      <td>NaN</td>\n",
       "      <td>1</td>\n",
       "      <td>NaN</td>\n",
       "      <td>AUS</td>\n",
       "    </tr>\n",
       "    <tr>\n",
       "      <th>68652</th>\n",
       "      <td>315633</td>\n",
       "      <td>3</td>\n",
       "      <td>zvornik</td>\n",
       "      <td>NaN</td>\n",
       "      <td>NaN</td>\n",
       "      <td>NaN</td>\n",
       "      <td>1</td>\n",
       "      <td>NaN</td>\n",
       "      <td>AUS</td>\n",
       "    </tr>\n",
       "  </tbody>\n",
       "</table>\n",
       "<p>4203 rows × 9 columns</p>\n",
       "</div>"
      ],
      "text/plain": [
       "           id status          name sire_id dam_id  YOB sex colour  COB\n",
       "56785  196235      3        abadan     NaN    NaN  NaN   1    NaN   GB\n",
       "56792  265453      3        abadan     NaN    NaN  NaN   1    NaN   GB\n",
       "56796  385381      3  abbots trace     NaN    NaN  NaN   1    NaN  IRE\n",
       "56797  455953      3  abbots trace     NaN    NaN  NaN   1    NaN  IRE\n",
       "56836  473013      3  abbots trace     NaN    NaN  NaN   1    NaN  IRE\n",
       "...       ...    ...           ...     ...    ...  ...  ..    ...  ...\n",
       "68630  385541      3       zingara     NaN    NaN  NaN   2    NaN   FR\n",
       "68631  444915      3       zingara     NaN    NaN  NaN   2    NaN   FR\n",
       "68650  190775      3       zvornik     NaN    NaN  NaN   1    NaN  AUS\n",
       "68651  295979      3       zvornik     NaN    NaN  NaN   1    NaN  AUS\n",
       "68652  315633      3       zvornik     NaN    NaN  NaN   1    NaN  AUS\n",
       "\n",
       "[4203 rows x 9 columns]"
      ]
     },
     "execution_count": 21,
     "metadata": {},
     "output_type": "execute_result"
    }
   ],
   "source": [
    "ped_df[ped_df.duplicated([\"name\", \"dam_id\", \"YOB\"], keep=False)]"
   ]
  },
  {
   "cell_type": "code",
   "execution_count": 22,
   "metadata": {},
   "outputs": [
    {
     "data": {
      "text/plain": [
       "id             0\n",
       "status         0\n",
       "name           2\n",
       "sire_id    11871\n",
       "dam_id     11871\n",
       "YOB         9927\n",
       "sex         1944\n",
       "colour     14813\n",
       "COB         4032\n",
       "dtype: int64"
      ]
     },
     "execution_count": 22,
     "metadata": {},
     "output_type": "execute_result"
    }
   ],
   "source": [
    "ped_df.isna().sum()"
   ]
  },
  {
   "cell_type": "code",
   "execution_count": 23,
   "metadata": {},
   "outputs": [
    {
     "data": {
      "text/plain": [
       "id          0.00\n",
       "status      0.00\n",
       "name        0.00\n",
       "sire_id    17.29\n",
       "dam_id     17.29\n",
       "YOB        14.46\n",
       "sex         2.83\n",
       "colour     21.58\n",
       "COB         5.87\n",
       "dtype: float64"
      ]
     },
     "execution_count": 23,
     "metadata": {},
     "output_type": "execute_result"
    }
   ],
   "source": [
    "ped_df.apply(lambda x: ((1-(x.count()/x.size))*100).round(2)) "
   ]
  },
  {
   "cell_type": "markdown",
   "metadata": {},
   "source": [
    "##### GenoId summary"
   ]
  },
  {
   "cell_type": "code",
   "execution_count": 24,
   "metadata": {},
   "outputs": [
    {
     "data": {
      "text/html": [
       "<div>\n",
       "<style scoped>\n",
       "    .dataframe tbody tr th:only-of-type {\n",
       "        vertical-align: middle;\n",
       "    }\n",
       "\n",
       "    .dataframe tbody tr th {\n",
       "        vertical-align: top;\n",
       "    }\n",
       "\n",
       "    .dataframe thead th {\n",
       "        text-align: right;\n",
       "    }\n",
       "</style>\n",
       "<table border=\"1\" class=\"dataframe\">\n",
       "  <thead>\n",
       "    <tr style=\"text-align: right;\">\n",
       "      <th></th>\n",
       "      <th>id</th>\n",
       "      <th>batchID</th>\n",
       "      <th>equinomeID</th>\n",
       "      <th>SNPChip</th>\n",
       "      <th>Year of Birth</th>\n",
       "      <th>Country Reported</th>\n",
       "      <th>sex</th>\n",
       "    </tr>\n",
       "  </thead>\n",
       "  <tbody>\n",
       "    <tr>\n",
       "      <th>0</th>\n",
       "      <td>20160112_JSB001_409</td>\n",
       "      <td>20160112</td>\n",
       "      <td>JSB001_409</td>\n",
       "      <td>SNP670</td>\n",
       "      <td>1971</td>\n",
       "      <td>Ireland</td>\n",
       "      <td>Female</td>\n",
       "    </tr>\n",
       "    <tr>\n",
       "      <th>1</th>\n",
       "      <td>20141029_CM108</td>\n",
       "      <td>20141029</td>\n",
       "      <td>CM108</td>\n",
       "      <td>SNP70</td>\n",
       "      <td>1973</td>\n",
       "      <td>Ireland</td>\n",
       "      <td>Female</td>\n",
       "    </tr>\n",
       "    <tr>\n",
       "      <th>2</th>\n",
       "      <td>20100101_CM002</td>\n",
       "      <td>20100101</td>\n",
       "      <td>CM002</td>\n",
       "      <td>SNP50</td>\n",
       "      <td>1974</td>\n",
       "      <td>Ireland</td>\n",
       "      <td>Male</td>\n",
       "    </tr>\n",
       "    <tr>\n",
       "      <th>3</th>\n",
       "      <td>20100101_CM104</td>\n",
       "      <td>20100101</td>\n",
       "      <td>CM104</td>\n",
       "      <td>SNP50</td>\n",
       "      <td>1975</td>\n",
       "      <td>Ireland</td>\n",
       "      <td>Female</td>\n",
       "    </tr>\n",
       "    <tr>\n",
       "      <th>4</th>\n",
       "      <td>20141029_CM110</td>\n",
       "      <td>20141029</td>\n",
       "      <td>CM110</td>\n",
       "      <td>SNP70</td>\n",
       "      <td>1976</td>\n",
       "      <td>Ireland</td>\n",
       "      <td>Female</td>\n",
       "    </tr>\n",
       "  </tbody>\n",
       "</table>\n",
       "</div>"
      ],
      "text/plain": [
       "                    id   batchID  equinomeID SNPChip Year of Birth  \\\n",
       "0  20160112_JSB001_409  20160112  JSB001_409  SNP670          1971   \n",
       "1       20141029_CM108  20141029       CM108   SNP70          1973   \n",
       "2       20100101_CM002  20100101       CM002   SNP50          1974   \n",
       "3       20100101_CM104  20100101       CM104   SNP50          1975   \n",
       "4       20141029_CM110  20141029       CM110   SNP70          1976   \n",
       "\n",
       "  Country Reported     sex  \n",
       "0          Ireland  Female  \n",
       "1          Ireland  Female  \n",
       "2          Ireland    Male  \n",
       "3          Ireland  Female  \n",
       "4          Ireland  Female  "
      ]
     },
     "execution_count": 24,
     "metadata": {},
     "output_type": "execute_result"
    }
   ],
   "source": [
    "geno_id.head()"
   ]
  },
  {
   "cell_type": "code",
   "execution_count": 25,
   "metadata": {},
   "outputs": [
    {
     "data": {
      "text/plain": [
       "(11183, 7)"
      ]
     },
     "execution_count": 25,
     "metadata": {},
     "output_type": "execute_result"
    }
   ],
   "source": [
    "geno_id.shape"
   ]
  },
  {
   "cell_type": "code",
   "execution_count": 26,
   "metadata": {},
   "outputs": [
    {
     "data": {
      "text/plain": [
       "11183"
      ]
     },
     "execution_count": 26,
     "metadata": {},
     "output_type": "execute_result"
    }
   ],
   "source": [
    "geno_id.id.nunique()"
   ]
  },
  {
   "cell_type": "code",
   "execution_count": 27,
   "metadata": {},
   "outputs": [
    {
     "data": {
      "text/plain": [
       "11107"
      ]
     },
     "execution_count": 27,
     "metadata": {},
     "output_type": "execute_result"
    }
   ],
   "source": [
    "geno_id.equinomeID.nunique()"
   ]
  },
  {
   "cell_type": "markdown",
   "metadata": {},
   "source": [
    "##### Ped Additional summary"
   ]
  },
  {
   "cell_type": "code",
   "execution_count": 28,
   "metadata": {},
   "outputs": [
    {
     "data": {
      "text/html": [
       "<div>\n",
       "<style scoped>\n",
       "    .dataframe tbody tr th:only-of-type {\n",
       "        vertical-align: middle;\n",
       "    }\n",
       "\n",
       "    .dataframe tbody tr th {\n",
       "        vertical-align: top;\n",
       "    }\n",
       "\n",
       "    .dataframe thead th {\n",
       "        text-align: right;\n",
       "    }\n",
       "</style>\n",
       "<table border=\"1\" class=\"dataframe\">\n",
       "  <thead>\n",
       "    <tr style=\"text-align: right;\">\n",
       "      <th></th>\n",
       "      <th>id</th>\n",
       "      <th>batchID</th>\n",
       "      <th>equinomeID</th>\n",
       "      <th>SNPChip</th>\n",
       "      <th>Year of Birth</th>\n",
       "      <th>sex</th>\n",
       "      <th>Country Reported</th>\n",
       "      <th>Horse Name</th>\n",
       "      <th>Sire</th>\n",
       "      <th>Dam</th>\n",
       "      <th>Month of Birth</th>\n",
       "      <th>Country of Birth</th>\n",
       "    </tr>\n",
       "  </thead>\n",
       "  <tbody>\n",
       "    <tr>\n",
       "      <th>0</th>\n",
       "      <td>20100101_103</td>\n",
       "      <td>20100101</td>\n",
       "      <td>103</td>\n",
       "      <td>SNP50</td>\n",
       "      <td>2003</td>\n",
       "      <td>Male</td>\n",
       "      <td>New Zealand</td>\n",
       "      <td>Condesire</td>\n",
       "      <td>Traditionally</td>\n",
       "      <td>Fine Feather</td>\n",
       "      <td>September</td>\n",
       "      <td>New Zealand</td>\n",
       "    </tr>\n",
       "    <tr>\n",
       "      <th>1</th>\n",
       "      <td>20100101_GB5</td>\n",
       "      <td>20100101</td>\n",
       "      <td>GB5</td>\n",
       "      <td>SNP50</td>\n",
       "      <td>1999</td>\n",
       "      <td>Female</td>\n",
       "      <td>Ireland</td>\n",
       "      <td>Susan Glen</td>\n",
       "      <td>Sacrament</td>\n",
       "      <td>SanvacGlen</td>\n",
       "      <td>May</td>\n",
       "      <td>Ireland</td>\n",
       "    </tr>\n",
       "    <tr>\n",
       "      <th>2</th>\n",
       "      <td>20100101_GF01</td>\n",
       "      <td>20100101</td>\n",
       "      <td>GF01</td>\n",
       "      <td>SNP50</td>\n",
       "      <td>2000</td>\n",
       "      <td>Male</td>\n",
       "      <td>Ireland</td>\n",
       "      <td>Rossmore Castle</td>\n",
       "      <td>WitnessBox</td>\n",
       "      <td>LatinQuarter</td>\n",
       "      <td>June</td>\n",
       "      <td>Ireland</td>\n",
       "    </tr>\n",
       "    <tr>\n",
       "      <th>3</th>\n",
       "      <td>20100101_GF03</td>\n",
       "      <td>20100101</td>\n",
       "      <td>GF03</td>\n",
       "      <td>SNP50</td>\n",
       "      <td>2003</td>\n",
       "      <td>Male</td>\n",
       "      <td>Ireland</td>\n",
       "      <td>Radiator Rooney</td>\n",
       "      <td>Elnadim</td>\n",
       "      <td>QueenofTheMay</td>\n",
       "      <td>April</td>\n",
       "      <td>Ireland</td>\n",
       "    </tr>\n",
       "    <tr>\n",
       "      <th>4</th>\n",
       "      <td>20100101_JSB049</td>\n",
       "      <td>20100101</td>\n",
       "      <td>JSB049</td>\n",
       "      <td>SNP50</td>\n",
       "      <td>2004</td>\n",
       "      <td>Female</td>\n",
       "      <td>Ireland</td>\n",
       "      <td>Ambereen</td>\n",
       "      <td>Lils Boy</td>\n",
       "      <td>Aeraiocht</td>\n",
       "      <td>February</td>\n",
       "      <td>Ireland</td>\n",
       "    </tr>\n",
       "  </tbody>\n",
       "</table>\n",
       "</div>"
      ],
      "text/plain": [
       "                id   batchID equinomeID SNPChip Year of Birth     sex  \\\n",
       "0     20100101_103  20100101        103   SNP50          2003    Male   \n",
       "1     20100101_GB5  20100101        GB5   SNP50          1999  Female   \n",
       "2    20100101_GF01  20100101       GF01   SNP50          2000    Male   \n",
       "3    20100101_GF03  20100101       GF03   SNP50          2003    Male   \n",
       "4  20100101_JSB049  20100101     JSB049   SNP50          2004  Female   \n",
       "\n",
       "  Country Reported       Horse Name           Sire            Dam  \\\n",
       "0      New Zealand        Condesire  Traditionally   Fine Feather   \n",
       "1          Ireland       Susan Glen      Sacrament     SanvacGlen   \n",
       "2          Ireland  Rossmore Castle     WitnessBox   LatinQuarter   \n",
       "3          Ireland  Radiator Rooney        Elnadim  QueenofTheMay   \n",
       "4          Ireland         Ambereen       Lils Boy      Aeraiocht   \n",
       "\n",
       "  Month of Birth Country of Birth  \n",
       "0      September      New Zealand  \n",
       "1            May          Ireland  \n",
       "2           June          Ireland  \n",
       "3          April          Ireland  \n",
       "4       February          Ireland  "
      ]
     },
     "execution_count": 28,
     "metadata": {},
     "output_type": "execute_result"
    }
   ],
   "source": [
    "ped_addit.head()"
   ]
  },
  {
   "cell_type": "code",
   "execution_count": 29,
   "metadata": {},
   "outputs": [
    {
     "data": {
      "text/plain": [
       "Index(['id', 'batchID', 'equinomeID', 'SNPChip', 'Year of Birth', 'sex',\n",
       "       'Country Reported', 'Horse Name', 'Sire', 'Dam', 'Month of Birth',\n",
       "       'Country of Birth'],\n",
       "      dtype='object')"
      ]
     },
     "execution_count": 29,
     "metadata": {},
     "output_type": "execute_result"
    }
   ],
   "source": [
    "ped_addit.columns"
   ]
  },
  {
   "cell_type": "code",
   "execution_count": 30,
   "metadata": {},
   "outputs": [
    {
     "data": {
      "text/plain": [
       "(5814, 12)"
      ]
     },
     "execution_count": 30,
     "metadata": {},
     "output_type": "execute_result"
    }
   ],
   "source": [
    "ped_addit.shape"
   ]
  },
  {
   "cell_type": "code",
   "execution_count": 31,
   "metadata": {},
   "outputs": [
    {
     "data": {
      "text/html": [
       "<div>\n",
       "<style scoped>\n",
       "    .dataframe tbody tr th:only-of-type {\n",
       "        vertical-align: middle;\n",
       "    }\n",
       "\n",
       "    .dataframe tbody tr th {\n",
       "        vertical-align: top;\n",
       "    }\n",
       "\n",
       "    .dataframe thead th {\n",
       "        text-align: right;\n",
       "    }\n",
       "</style>\n",
       "<table border=\"1\" class=\"dataframe\">\n",
       "  <thead>\n",
       "    <tr style=\"text-align: right;\">\n",
       "      <th></th>\n",
       "      <th>id</th>\n",
       "      <th>batchID</th>\n",
       "      <th>equinomeID</th>\n",
       "      <th>SNPChip</th>\n",
       "      <th>Year of Birth</th>\n",
       "      <th>sex</th>\n",
       "      <th>Country Reported</th>\n",
       "      <th>Horse Name</th>\n",
       "      <th>Sire</th>\n",
       "      <th>Dam</th>\n",
       "      <th>Month of Birth</th>\n",
       "      <th>Country of Birth</th>\n",
       "    </tr>\n",
       "  </thead>\n",
       "  <tbody>\n",
       "  </tbody>\n",
       "</table>\n",
       "</div>"
      ],
      "text/plain": [
       "Empty DataFrame\n",
       "Columns: [id, batchID, equinomeID, SNPChip, Year of Birth, sex, Country Reported, Horse Name, Sire, Dam, Month of Birth, Country of Birth]\n",
       "Index: []"
      ]
     },
     "execution_count": 31,
     "metadata": {},
     "output_type": "execute_result"
    }
   ],
   "source": [
    "ped_addit[ped_addit.duplicated(\"id\")]"
   ]
  },
  {
   "cell_type": "code",
   "execution_count": 32,
   "metadata": {},
   "outputs": [
    {
     "data": {
      "text/html": [
       "<div>\n",
       "<style scoped>\n",
       "    .dataframe tbody tr th:only-of-type {\n",
       "        vertical-align: middle;\n",
       "    }\n",
       "\n",
       "    .dataframe tbody tr th {\n",
       "        vertical-align: top;\n",
       "    }\n",
       "\n",
       "    .dataframe thead th {\n",
       "        text-align: right;\n",
       "    }\n",
       "</style>\n",
       "<table border=\"1\" class=\"dataframe\">\n",
       "  <thead>\n",
       "    <tr style=\"text-align: right;\">\n",
       "      <th></th>\n",
       "      <th>id</th>\n",
       "      <th>batchID</th>\n",
       "      <th>equinomeID</th>\n",
       "      <th>SNPChip</th>\n",
       "      <th>Year of Birth</th>\n",
       "      <th>sex</th>\n",
       "      <th>Country Reported</th>\n",
       "      <th>Horse Name</th>\n",
       "      <th>Sire</th>\n",
       "      <th>Dam</th>\n",
       "      <th>Month of Birth</th>\n",
       "      <th>Country of Birth</th>\n",
       "    </tr>\n",
       "  </thead>\n",
       "  <tbody>\n",
       "    <tr>\n",
       "      <th>83</th>\n",
       "      <td>20141020_BAR001_021</td>\n",
       "      <td>20141020</td>\n",
       "      <td>BAR001_021</td>\n",
       "      <td>SNP70</td>\n",
       "      <td>2012</td>\n",
       "      <td>Male</td>\n",
       "      <td>Australia</td>\n",
       "      <td>Yum Sing</td>\n",
       "      <td>Congrats</td>\n",
       "      <td>Hennessy Belle</td>\n",
       "      <td>October</td>\n",
       "      <td>Australia</td>\n",
       "    </tr>\n",
       "    <tr>\n",
       "      <th>1605</th>\n",
       "      <td>20160627_BAR001_021</td>\n",
       "      <td>20160627</td>\n",
       "      <td>BAR001_021</td>\n",
       "      <td>SNP70</td>\n",
       "      <td>2012</td>\n",
       "      <td>Male</td>\n",
       "      <td>Australia</td>\n",
       "      <td>Yum Sing</td>\n",
       "      <td>Congrats</td>\n",
       "      <td>Hennessy Belle</td>\n",
       "      <td>October</td>\n",
       "      <td>Australia</td>\n",
       "    </tr>\n",
       "    <tr>\n",
       "      <th>1608</th>\n",
       "      <td>20160627_BAR001_032</td>\n",
       "      <td>20160627</td>\n",
       "      <td>BAR001_032</td>\n",
       "      <td>SNP70</td>\n",
       "      <td>2012</td>\n",
       "      <td>Male</td>\n",
       "      <td>Australia</td>\n",
       "      <td>Congratulations</td>\n",
       "      <td>Congrats</td>\n",
       "      <td>Double Strength</td>\n",
       "      <td>September</td>\n",
       "      <td>Australia</td>\n",
       "    </tr>\n",
       "    <tr>\n",
       "      <th>410</th>\n",
       "      <td>20150105_BAR001_032</td>\n",
       "      <td>20150105</td>\n",
       "      <td>BAR001_032</td>\n",
       "      <td>SNP70</td>\n",
       "      <td>2012</td>\n",
       "      <td>Male</td>\n",
       "      <td>Australia</td>\n",
       "      <td>Congratulations</td>\n",
       "      <td>Congrats</td>\n",
       "      <td>Double Strength</td>\n",
       "      <td>September</td>\n",
       "      <td>Australia</td>\n",
       "    </tr>\n",
       "    <tr>\n",
       "      <th>2103</th>\n",
       "      <td>20170214_CUM001_117</td>\n",
       "      <td>20170214</td>\n",
       "      <td>CUM001_117</td>\n",
       "      <td>SNP70_PVL</td>\n",
       "      <td>2013</td>\n",
       "      <td>Female</td>\n",
       "      <td>Great Britain</td>\n",
       "      <td>Angela North</td>\n",
       "      <td>Canford Cliffs</td>\n",
       "      <td>Vallota</td>\n",
       "      <td>April</td>\n",
       "      <td>Great Britain</td>\n",
       "    </tr>\n",
       "    <tr>\n",
       "      <th>...</th>\n",
       "      <td>...</td>\n",
       "      <td>...</td>\n",
       "      <td>...</td>\n",
       "      <td>...</td>\n",
       "      <td>...</td>\n",
       "      <td>...</td>\n",
       "      <td>...</td>\n",
       "      <td>...</td>\n",
       "      <td>...</td>\n",
       "      <td>...</td>\n",
       "      <td>...</td>\n",
       "      <td>...</td>\n",
       "    </tr>\n",
       "    <tr>\n",
       "      <th>838</th>\n",
       "      <td>20150813_SFI152</td>\n",
       "      <td>20150813</td>\n",
       "      <td>SFI152</td>\n",
       "      <td>SNP670</td>\n",
       "      <td>2012</td>\n",
       "      <td>Male</td>\n",
       "      <td>Ireland</td>\n",
       "      <td>Family Pride</td>\n",
       "      <td>Proud Citizen</td>\n",
       "      <td>Family</td>\n",
       "      <td>March</td>\n",
       "      <td>Ireland</td>\n",
       "    </tr>\n",
       "    <tr>\n",
       "      <th>427</th>\n",
       "      <td>20150105_TLS001_002</td>\n",
       "      <td>20150105</td>\n",
       "      <td>TLS001_002</td>\n",
       "      <td>SNP70</td>\n",
       "      <td>2012</td>\n",
       "      <td>Female</td>\n",
       "      <td>Australia</td>\n",
       "      <td>Noaf</td>\n",
       "      <td>Commands</td>\n",
       "      <td>Crossyourheart</td>\n",
       "      <td>September</td>\n",
       "      <td>Australia</td>\n",
       "    </tr>\n",
       "    <tr>\n",
       "      <th>1601</th>\n",
       "      <td>20160614_TLS001_002</td>\n",
       "      <td>20160614</td>\n",
       "      <td>TLS001_002</td>\n",
       "      <td>SNP70</td>\n",
       "      <td>2012</td>\n",
       "      <td>Female</td>\n",
       "      <td>Australia</td>\n",
       "      <td>Noaf</td>\n",
       "      <td>Commands</td>\n",
       "      <td>Crossyourheart</td>\n",
       "      <td>September</td>\n",
       "      <td>Australia</td>\n",
       "    </tr>\n",
       "    <tr>\n",
       "      <th>429</th>\n",
       "      <td>20150105_WPS001_010</td>\n",
       "      <td>20150105</td>\n",
       "      <td>WPS001_010</td>\n",
       "      <td>SNP70</td>\n",
       "      <td>2012</td>\n",
       "      <td>Male</td>\n",
       "      <td>Australia</td>\n",
       "      <td>Astro Fame</td>\n",
       "      <td>Encosta de Lago</td>\n",
       "      <td>Special Episode</td>\n",
       "      <td>September</td>\n",
       "      <td>Australia</td>\n",
       "    </tr>\n",
       "    <tr>\n",
       "      <th>1484</th>\n",
       "      <td>20160517_WPS001_010</td>\n",
       "      <td>20160517</td>\n",
       "      <td>WPS001_010</td>\n",
       "      <td>SNP70</td>\n",
       "      <td>2012</td>\n",
       "      <td>Male</td>\n",
       "      <td>Australia</td>\n",
       "      <td>Astro Fame</td>\n",
       "      <td>Encosta de Lago</td>\n",
       "      <td>Special Episode</td>\n",
       "      <td>September</td>\n",
       "      <td>Australia</td>\n",
       "    </tr>\n",
       "  </tbody>\n",
       "</table>\n",
       "<p>156 rows × 12 columns</p>\n",
       "</div>"
      ],
      "text/plain": [
       "                       id   batchID  equinomeID    SNPChip Year of Birth  \\\n",
       "83    20141020_BAR001_021  20141020  BAR001_021      SNP70          2012   \n",
       "1605  20160627_BAR001_021  20160627  BAR001_021      SNP70          2012   \n",
       "1608  20160627_BAR001_032  20160627  BAR001_032      SNP70          2012   \n",
       "410   20150105_BAR001_032  20150105  BAR001_032      SNP70          2012   \n",
       "2103  20170214_CUM001_117  20170214  CUM001_117  SNP70_PVL          2013   \n",
       "...                   ...       ...         ...        ...           ...   \n",
       "838       20150813_SFI152  20150813      SFI152     SNP670          2012   \n",
       "427   20150105_TLS001_002  20150105  TLS001_002      SNP70          2012   \n",
       "1601  20160614_TLS001_002  20160614  TLS001_002      SNP70          2012   \n",
       "429   20150105_WPS001_010  20150105  WPS001_010      SNP70          2012   \n",
       "1484  20160517_WPS001_010  20160517  WPS001_010      SNP70          2012   \n",
       "\n",
       "         sex Country Reported       Horse Name             Sire  \\\n",
       "83      Male        Australia         Yum Sing         Congrats   \n",
       "1605    Male        Australia         Yum Sing         Congrats   \n",
       "1608    Male        Australia  Congratulations         Congrats   \n",
       "410     Male        Australia  Congratulations         Congrats   \n",
       "2103  Female    Great Britain     Angela North   Canford Cliffs   \n",
       "...      ...              ...              ...              ...   \n",
       "838     Male          Ireland     Family Pride    Proud Citizen   \n",
       "427   Female        Australia             Noaf         Commands   \n",
       "1601  Female        Australia             Noaf         Commands   \n",
       "429     Male        Australia       Astro Fame  Encosta de Lago   \n",
       "1484    Male        Australia       Astro Fame  Encosta de Lago   \n",
       "\n",
       "                  Dam Month of Birth Country of Birth  \n",
       "83     Hennessy Belle        October        Australia  \n",
       "1605   Hennessy Belle        October        Australia  \n",
       "1608  Double Strength      September        Australia  \n",
       "410   Double Strength      September        Australia  \n",
       "2103          Vallota          April    Great Britain  \n",
       "...               ...            ...              ...  \n",
       "838            Family          March          Ireland  \n",
       "427    Crossyourheart      September        Australia  \n",
       "1601   Crossyourheart      September        Australia  \n",
       "429   Special Episode      September        Australia  \n",
       "1484  Special Episode      September        Australia  \n",
       "\n",
       "[156 rows x 12 columns]"
      ]
     },
     "execution_count": 32,
     "metadata": {},
     "output_type": "execute_result"
    }
   ],
   "source": [
    "ped_addit[ped_addit.duplicated(\"equinomeID\", keep=False)] \\\n",
    "    .sort_values(\"equinomeID\")"
   ]
  },
  {
   "cell_type": "code",
   "execution_count": 33,
   "metadata": {},
   "outputs": [
    {
     "data": {
      "text/html": [
       "<div>\n",
       "<style scoped>\n",
       "    .dataframe tbody tr th:only-of-type {\n",
       "        vertical-align: middle;\n",
       "    }\n",
       "\n",
       "    .dataframe tbody tr th {\n",
       "        vertical-align: top;\n",
       "    }\n",
       "\n",
       "    .dataframe thead th {\n",
       "        text-align: right;\n",
       "    }\n",
       "</style>\n",
       "<table border=\"1\" class=\"dataframe\">\n",
       "  <thead>\n",
       "    <tr style=\"text-align: right;\">\n",
       "      <th></th>\n",
       "      <th>id</th>\n",
       "      <th>status</th>\n",
       "      <th>name</th>\n",
       "      <th>sire_id</th>\n",
       "      <th>dam_id</th>\n",
       "      <th>YOB</th>\n",
       "      <th>sex</th>\n",
       "      <th>colour</th>\n",
       "      <th>COB</th>\n",
       "    </tr>\n",
       "  </thead>\n",
       "  <tbody>\n",
       "    <tr>\n",
       "      <th>0</th>\n",
       "      <td>7</td>\n",
       "      <td>0</td>\n",
       "      <td>battle joined</td>\n",
       "      <td>3</td>\n",
       "      <td>6</td>\n",
       "      <td>1959</td>\n",
       "      <td>1</td>\n",
       "      <td>b.</td>\n",
       "      <td>USA</td>\n",
       "    </tr>\n",
       "    <tr>\n",
       "      <th>1</th>\n",
       "      <td>177841</td>\n",
       "      <td>0</td>\n",
       "      <td>armed venus</td>\n",
       "      <td>3</td>\n",
       "      <td>452020</td>\n",
       "      <td>1958</td>\n",
       "      <td>2</td>\n",
       "      <td>b.</td>\n",
       "      <td>USA</td>\n",
       "    </tr>\n",
       "    <tr>\n",
       "      <th>2</th>\n",
       "      <td>448331</td>\n",
       "      <td>0</td>\n",
       "      <td>gentility</td>\n",
       "      <td>3</td>\n",
       "      <td>448330</td>\n",
       "      <td>1961</td>\n",
       "      <td>2</td>\n",
       "      <td>b.</td>\n",
       "      <td>USA</td>\n",
       "    </tr>\n",
       "    <tr>\n",
       "      <th>3</th>\n",
       "      <td>15</td>\n",
       "      <td>0</td>\n",
       "      <td>ack ack</td>\n",
       "      <td>7</td>\n",
       "      <td>14</td>\n",
       "      <td>1966</td>\n",
       "      <td>1</td>\n",
       "      <td>b.</td>\n",
       "      <td>USA</td>\n",
       "    </tr>\n",
       "    <tr>\n",
       "      <th>4</th>\n",
       "      <td>383725</td>\n",
       "      <td>0</td>\n",
       "      <td>jungle war</td>\n",
       "      <td>7</td>\n",
       "      <td>383724</td>\n",
       "      <td>1964</td>\n",
       "      <td>2</td>\n",
       "      <td>b.</td>\n",
       "      <td>USA</td>\n",
       "    </tr>\n",
       "  </tbody>\n",
       "</table>\n",
       "</div>"
      ],
      "text/plain": [
       "       id status           name sire_id  dam_id   YOB sex colour  COB\n",
       "0       7      0  battle joined       3       6  1959   1     b.  USA\n",
       "1  177841      0    armed venus       3  452020  1958   2     b.  USA\n",
       "2  448331      0      gentility       3  448330  1961   2     b.  USA\n",
       "3      15      0        ack ack       7      14  1966   1     b.  USA\n",
       "4  383725      0     jungle war       7  383724  1964   2     b.  USA"
      ]
     },
     "execution_count": 33,
     "metadata": {},
     "output_type": "execute_result"
    }
   ],
   "source": [
    "ped_df.head()"
   ]
  },
  {
   "cell_type": "markdown",
   "metadata": {},
   "source": [
    "## Issue with repetitions"
   ]
  },
  {
   "cell_type": "code",
   "execution_count": 5,
   "metadata": {},
   "outputs": [
    {
     "data": {
      "text/html": [
       "<div>\n",
       "<style scoped>\n",
       "    .dataframe tbody tr th:only-of-type {\n",
       "        vertical-align: middle;\n",
       "    }\n",
       "\n",
       "    .dataframe tbody tr th {\n",
       "        vertical-align: top;\n",
       "    }\n",
       "\n",
       "    .dataframe thead th {\n",
       "        text-align: right;\n",
       "    }\n",
       "</style>\n",
       "<table border=\"1\" class=\"dataframe\">\n",
       "  <thead>\n",
       "    <tr style=\"text-align: right;\">\n",
       "      <th></th>\n",
       "      <th>id</th>\n",
       "      <th>status</th>\n",
       "      <th>name</th>\n",
       "      <th>sire_id</th>\n",
       "      <th>dam_id</th>\n",
       "      <th>YOB</th>\n",
       "      <th>sex</th>\n",
       "      <th>colour</th>\n",
       "      <th>COB</th>\n",
       "    </tr>\n",
       "  </thead>\n",
       "  <tbody>\n",
       "    <tr>\n",
       "      <th>0</th>\n",
       "      <td>7</td>\n",
       "      <td>0</td>\n",
       "      <td>battle joined</td>\n",
       "      <td>3</td>\n",
       "      <td>6</td>\n",
       "      <td>1959</td>\n",
       "      <td>1</td>\n",
       "      <td>b.</td>\n",
       "      <td>USA</td>\n",
       "    </tr>\n",
       "    <tr>\n",
       "      <th>1</th>\n",
       "      <td>177841</td>\n",
       "      <td>0</td>\n",
       "      <td>armed venus</td>\n",
       "      <td>3</td>\n",
       "      <td>452020</td>\n",
       "      <td>1958</td>\n",
       "      <td>2</td>\n",
       "      <td>b.</td>\n",
       "      <td>USA</td>\n",
       "    </tr>\n",
       "    <tr>\n",
       "      <th>2</th>\n",
       "      <td>448331</td>\n",
       "      <td>0</td>\n",
       "      <td>gentility</td>\n",
       "      <td>3</td>\n",
       "      <td>448330</td>\n",
       "      <td>1961</td>\n",
       "      <td>2</td>\n",
       "      <td>b.</td>\n",
       "      <td>USA</td>\n",
       "    </tr>\n",
       "    <tr>\n",
       "      <th>3</th>\n",
       "      <td>15</td>\n",
       "      <td>0</td>\n",
       "      <td>ack ack</td>\n",
       "      <td>7</td>\n",
       "      <td>14</td>\n",
       "      <td>1966</td>\n",
       "      <td>1</td>\n",
       "      <td>b.</td>\n",
       "      <td>USA</td>\n",
       "    </tr>\n",
       "    <tr>\n",
       "      <th>4</th>\n",
       "      <td>383725</td>\n",
       "      <td>0</td>\n",
       "      <td>jungle war</td>\n",
       "      <td>7</td>\n",
       "      <td>383724</td>\n",
       "      <td>1964</td>\n",
       "      <td>2</td>\n",
       "      <td>b.</td>\n",
       "      <td>USA</td>\n",
       "    </tr>\n",
       "  </tbody>\n",
       "</table>\n",
       "</div>"
      ],
      "text/plain": [
       "       id status           name sire_id  dam_id   YOB sex colour  COB\n",
       "0       7      0  battle joined       3       6  1959   1     b.  USA\n",
       "1  177841      0    armed venus       3  452020  1958   2     b.  USA\n",
       "2  448331      0      gentility       3  448330  1961   2     b.  USA\n",
       "3      15      0        ack ack       7      14  1966   1     b.  USA\n",
       "4  383725      0     jungle war       7  383724  1964   2     b.  USA"
      ]
     },
     "execution_count": 5,
     "metadata": {},
     "output_type": "execute_result"
    }
   ],
   "source": [
    "cleaned_pedigree = pd.read_csv(\"../results/cleaned_first_ped.csv\", dtype=\"str\")\n",
    "cleaned_pedigree.head()"
   ]
  },
  {
   "cell_type": "code",
   "execution_count": 6,
   "metadata": {},
   "outputs": [
    {
     "data": {
      "text/plain": [
       "(68655, 9)"
      ]
     },
     "execution_count": 6,
     "metadata": {},
     "output_type": "execute_result"
    }
   ],
   "source": [
    "cleaned_pedigree.shape"
   ]
  },
  {
   "cell_type": "markdown",
   "metadata": {},
   "source": [
    "##### 1. How many inidividuals have the same name"
   ]
  },
  {
   "cell_type": "code",
   "execution_count": 7,
   "metadata": {},
   "outputs": [
    {
     "data": {
      "text/plain": [
       "(14974, 9)"
      ]
     },
     "execution_count": 7,
     "metadata": {},
     "output_type": "execute_result"
    }
   ],
   "source": [
    "cleaned_pedigree[cleaned_pedigree.duplicated([\"name\"], keep=False)].shape"
   ]
  },
  {
   "cell_type": "code",
   "execution_count": 8,
   "metadata": {},
   "outputs": [
    {
     "data": {
      "text/html": [
       "<div>\n",
       "<style scoped>\n",
       "    .dataframe tbody tr th:only-of-type {\n",
       "        vertical-align: middle;\n",
       "    }\n",
       "\n",
       "    .dataframe tbody tr th {\n",
       "        vertical-align: top;\n",
       "    }\n",
       "\n",
       "    .dataframe thead th {\n",
       "        text-align: right;\n",
       "    }\n",
       "</style>\n",
       "<table border=\"1\" class=\"dataframe\">\n",
       "  <thead>\n",
       "    <tr style=\"text-align: right;\">\n",
       "      <th></th>\n",
       "      <th>id</th>\n",
       "      <th>status</th>\n",
       "      <th>name</th>\n",
       "      <th>sire_id</th>\n",
       "      <th>dam_id</th>\n",
       "      <th>YOB</th>\n",
       "      <th>sex</th>\n",
       "      <th>colour</th>\n",
       "      <th>COB</th>\n",
       "    </tr>\n",
       "  </thead>\n",
       "  <tbody>\n",
       "    <tr>\n",
       "      <th>56792</th>\n",
       "      <td>265453</td>\n",
       "      <td>3</td>\n",
       "      <td>abadan</td>\n",
       "      <td>NaN</td>\n",
       "      <td>NaN</td>\n",
       "      <td>NaN</td>\n",
       "      <td>1</td>\n",
       "      <td>NaN</td>\n",
       "      <td>GB</td>\n",
       "    </tr>\n",
       "    <tr>\n",
       "      <th>30220</th>\n",
       "      <td>72702</td>\n",
       "      <td>0</td>\n",
       "      <td>abadan</td>\n",
       "      <td>18943</td>\n",
       "      <td>415195</td>\n",
       "      <td>1947</td>\n",
       "      <td>1</td>\n",
       "      <td>b.</td>\n",
       "      <td>GB</td>\n",
       "    </tr>\n",
       "    <tr>\n",
       "      <th>56785</th>\n",
       "      <td>196235</td>\n",
       "      <td>3</td>\n",
       "      <td>abadan</td>\n",
       "      <td>NaN</td>\n",
       "      <td>NaN</td>\n",
       "      <td>NaN</td>\n",
       "      <td>1</td>\n",
       "      <td>NaN</td>\n",
       "      <td>GB</td>\n",
       "    </tr>\n",
       "    <tr>\n",
       "      <th>21609</th>\n",
       "      <td>259580</td>\n",
       "      <td>0</td>\n",
       "      <td>abashed</td>\n",
       "      <td>6508</td>\n",
       "      <td>259579</td>\n",
       "      <td>2002</td>\n",
       "      <td>2</td>\n",
       "      <td>b.</td>\n",
       "      <td>AUS</td>\n",
       "    </tr>\n",
       "    <tr>\n",
       "      <th>9055</th>\n",
       "      <td>1034</td>\n",
       "      <td>1</td>\n",
       "      <td>abashed</td>\n",
       "      <td>1013</td>\n",
       "      <td>1033</td>\n",
       "      <td>2017</td>\n",
       "      <td>2</td>\n",
       "      <td>ch.</td>\n",
       "      <td>USA</td>\n",
       "    </tr>\n",
       "    <tr>\n",
       "      <th>...</th>\n",
       "      <td>...</td>\n",
       "      <td>...</td>\n",
       "      <td>...</td>\n",
       "      <td>...</td>\n",
       "      <td>...</td>\n",
       "      <td>...</td>\n",
       "      <td>...</td>\n",
       "      <td>...</td>\n",
       "      <td>...</td>\n",
       "    </tr>\n",
       "    <tr>\n",
       "      <th>68646</th>\n",
       "      <td>484564</td>\n",
       "      <td>3</td>\n",
       "      <td>zuleika</td>\n",
       "      <td>NaN</td>\n",
       "      <td>NaN</td>\n",
       "      <td>NaN</td>\n",
       "      <td>2</td>\n",
       "      <td>NaN</td>\n",
       "      <td>GB</td>\n",
       "    </tr>\n",
       "    <tr>\n",
       "      <th>25683</th>\n",
       "      <td>253997</td>\n",
       "      <td>0</td>\n",
       "      <td>zvornik</td>\n",
       "      <td>11756</td>\n",
       "      <td>401160</td>\n",
       "      <td>1965</td>\n",
       "      <td>1</td>\n",
       "      <td>b.</td>\n",
       "      <td>AUS</td>\n",
       "    </tr>\n",
       "    <tr>\n",
       "      <th>68650</th>\n",
       "      <td>190775</td>\n",
       "      <td>3</td>\n",
       "      <td>zvornik</td>\n",
       "      <td>NaN</td>\n",
       "      <td>NaN</td>\n",
       "      <td>NaN</td>\n",
       "      <td>1</td>\n",
       "      <td>NaN</td>\n",
       "      <td>AUS</td>\n",
       "    </tr>\n",
       "    <tr>\n",
       "      <th>68651</th>\n",
       "      <td>295979</td>\n",
       "      <td>3</td>\n",
       "      <td>zvornik</td>\n",
       "      <td>NaN</td>\n",
       "      <td>NaN</td>\n",
       "      <td>NaN</td>\n",
       "      <td>1</td>\n",
       "      <td>NaN</td>\n",
       "      <td>AUS</td>\n",
       "    </tr>\n",
       "    <tr>\n",
       "      <th>68652</th>\n",
       "      <td>315633</td>\n",
       "      <td>3</td>\n",
       "      <td>zvornik</td>\n",
       "      <td>NaN</td>\n",
       "      <td>NaN</td>\n",
       "      <td>NaN</td>\n",
       "      <td>1</td>\n",
       "      <td>NaN</td>\n",
       "      <td>AUS</td>\n",
       "    </tr>\n",
       "  </tbody>\n",
       "</table>\n",
       "<p>14972 rows × 9 columns</p>\n",
       "</div>"
      ],
      "text/plain": [
       "           id status     name sire_id  dam_id   YOB sex colour  COB\n",
       "56792  265453      3   abadan     NaN     NaN   NaN   1    NaN   GB\n",
       "30220   72702      0   abadan   18943  415195  1947   1     b.   GB\n",
       "56785  196235      3   abadan     NaN     NaN   NaN   1    NaN   GB\n",
       "21609  259580      0  abashed    6508  259579  2002   2     b.  AUS\n",
       "9055     1034      1  abashed    1013    1033  2017   2    ch.  USA\n",
       "...       ...    ...      ...     ...     ...   ...  ..    ...  ...\n",
       "68646  484564      3  zuleika     NaN     NaN   NaN   2    NaN   GB\n",
       "25683  253997      0  zvornik   11756  401160  1965   1     b.  AUS\n",
       "68650  190775      3  zvornik     NaN     NaN   NaN   1    NaN  AUS\n",
       "68651  295979      3  zvornik     NaN     NaN   NaN   1    NaN  AUS\n",
       "68652  315633      3  zvornik     NaN     NaN   NaN   1    NaN  AUS\n",
       "\n",
       "[14972 rows x 9 columns]"
      ]
     },
     "execution_count": 8,
     "metadata": {},
     "output_type": "execute_result"
    }
   ],
   "source": [
    "cleaned_pedigree[~cleaned_pedigree.name.isna() & cleaned_pedigree.duplicated([\"name\"], keep=False)].sort_values(\"name\")"
   ]
  },
  {
   "cell_type": "code",
   "execution_count": 9,
   "metadata": {},
   "outputs": [],
   "source": [
    "# in the dataset we have 14,972 out of 68,655 (22%!!!) idividuals that have non unique name\n"
   ]
  },
  {
   "cell_type": "code",
   "execution_count": 10,
   "metadata": {},
   "outputs": [
    {
     "data": {
      "text/plain": [
       "id            0\n",
       "status        0\n",
       "name          0\n",
       "sire_id    6923\n",
       "dam_id     6924\n",
       "YOB        6709\n",
       "sex         214\n",
       "colour     7121\n",
       "COB         315\n",
       "dtype: int64"
      ]
     },
     "execution_count": 10,
     "metadata": {},
     "output_type": "execute_result"
    }
   ],
   "source": [
    "reps = cleaned_pedigree[~cleaned_pedigree.name.isna() & cleaned_pedigree.duplicated([\"name\"], keep=False)]\n",
    "reps.isna().sum()"
   ]
  },
  {
   "cell_type": "code",
   "execution_count": 11,
   "metadata": {},
   "outputs": [
    {
     "data": {
      "text/plain": [
       "6923"
      ]
     },
     "execution_count": 11,
     "metadata": {},
     "output_type": "execute_result"
    }
   ],
   "source": [
    "(reps[\"dam_id\"].isna() & reps[\"sire_id\"].isna()).sum()"
   ]
  },
  {
   "cell_type": "code",
   "execution_count": 12,
   "metadata": {},
   "outputs": [
    {
     "data": {
      "text/plain": [
       "6709"
      ]
     },
     "execution_count": 12,
     "metadata": {},
     "output_type": "execute_result"
    }
   ],
   "source": [
    "(reps[\"dam_id\"].isna() & reps[\"sire_id\"].isna() & reps[\"YOB\"].isna()).sum()"
   ]
  },
  {
   "cell_type": "code",
   "execution_count": 13,
   "metadata": {},
   "outputs": [],
   "source": [
    "# 6,923 of those don't have info on parents and 6,709 don't have parent and YOB info"
   ]
  },
  {
   "cell_type": "code",
   "execution_count": 14,
   "metadata": {},
   "outputs": [
    {
     "data": {
      "text/plain": [
       "array([[<Axes: title={'center': 'id'}>]], dtype=object)"
      ]
     },
     "execution_count": 14,
     "metadata": {},
     "output_type": "execute_result"
    },
    {
     "data": {
      "image/png": "[encoded data removed]",
      "text/plain": [
       "<Figure size 640x480 with 1 Axes>"
      ]
     },
     "metadata": {},
     "output_type": "display_data"
    }
   ],
   "source": [
    "cleaned_pedigree.groupby([\"name\"], as_index=False).agg({\"id\":\"count\"}).hist(bins=150)"
   ]
  },
  {
   "cell_type": "markdown",
   "metadata": {},
   "source": [
    "## How common is to have the same name"
   ]
  },
  {
   "cell_type": "code",
   "execution_count": 18,
   "metadata": {},
   "outputs": [
    {
     "name": "stdout",
     "output_type": "stream",
     "text": [
      "Number of groups with the same name and the same dam_id: 5\n",
      "Number of groups with the same name and different dam_id: 2277\n"
     ]
    }
   ],
   "source": [
    "grouped = reps.groupby([\"name\"], as_index=False).agg(\n",
    "    dam_id_count=(\"dam_id\", \"count\"), \n",
    "    dam_id_nunique=(\"dam_id\", pd.Series.nunique) \n",
    ")\n",
    "\n",
    "same_dam_id_count = grouped[(grouped[\"dam_id_nunique\"] == 1) & (grouped[\"dam_id_count\"] > 1)].shape[0]\n",
    "different_dam_id_count = grouped[grouped[\"dam_id_nunique\"] > 1].shape[0]\n",
    "\n",
    "print(f\"Number of groups with the same name and the same dam_id: {same_dam_id_count}\")\n",
    "print(f\"Number of groups with the same name and different dam_id: {different_dam_id_count}\")"
   ]
  },
  {
   "cell_type": "code",
   "execution_count": 16,
   "metadata": {},
   "outputs": [
    {
     "data": {
      "text/html": [
       "<div>\n",
       "<style scoped>\n",
       "    .dataframe tbody tr th:only-of-type {\n",
       "        vertical-align: middle;\n",
       "    }\n",
       "\n",
       "    .dataframe tbody tr th {\n",
       "        vertical-align: top;\n",
       "    }\n",
       "\n",
       "    .dataframe thead th {\n",
       "        text-align: right;\n",
       "    }\n",
       "</style>\n",
       "<table border=\"1\" class=\"dataframe\">\n",
       "  <thead>\n",
       "    <tr style=\"text-align: right;\">\n",
       "      <th></th>\n",
       "      <th>name</th>\n",
       "      <th>dam_id_count</th>\n",
       "      <th>dam_id_nunique</th>\n",
       "    </tr>\n",
       "  </thead>\n",
       "  <tbody>\n",
       "    <tr>\n",
       "      <th>0</th>\n",
       "      <td>abadan</td>\n",
       "      <td>3</td>\n",
       "      <td>1</td>\n",
       "    </tr>\n",
       "    <tr>\n",
       "      <th>1</th>\n",
       "      <td>abashed</td>\n",
       "      <td>2</td>\n",
       "      <td>2</td>\n",
       "    </tr>\n",
       "    <tr>\n",
       "      <th>2</th>\n",
       "      <td>abbazia</td>\n",
       "      <td>2</td>\n",
       "      <td>2</td>\n",
       "    </tr>\n",
       "    <tr>\n",
       "      <th>3</th>\n",
       "      <td>abbots anne</td>\n",
       "      <td>2</td>\n",
       "      <td>1</td>\n",
       "    </tr>\n",
       "    <tr>\n",
       "      <th>4</th>\n",
       "      <td>abbots trace</td>\n",
       "      <td>4</td>\n",
       "      <td>1</td>\n",
       "    </tr>\n",
       "    <tr>\n",
       "      <th>...</th>\n",
       "      <td>...</td>\n",
       "      <td>...</td>\n",
       "      <td>...</td>\n",
       "    </tr>\n",
       "    <tr>\n",
       "      <th>5791</th>\n",
       "      <td>zorina</td>\n",
       "      <td>3</td>\n",
       "      <td>3</td>\n",
       "    </tr>\n",
       "    <tr>\n",
       "      <th>5792</th>\n",
       "      <td>zria</td>\n",
       "      <td>2</td>\n",
       "      <td>1</td>\n",
       "    </tr>\n",
       "    <tr>\n",
       "      <th>5793</th>\n",
       "      <td>zucchero</td>\n",
       "      <td>2</td>\n",
       "      <td>1</td>\n",
       "    </tr>\n",
       "    <tr>\n",
       "      <th>5794</th>\n",
       "      <td>zuleika</td>\n",
       "      <td>2</td>\n",
       "      <td>1</td>\n",
       "    </tr>\n",
       "    <tr>\n",
       "      <th>5795</th>\n",
       "      <td>zvornik</td>\n",
       "      <td>4</td>\n",
       "      <td>1</td>\n",
       "    </tr>\n",
       "  </tbody>\n",
       "</table>\n",
       "<p>5796 rows × 3 columns</p>\n",
       "</div>"
      ],
      "text/plain": [
       "              name  dam_id_count  dam_id_nunique\n",
       "0           abadan             3               1\n",
       "1          abashed             2               2\n",
       "2          abbazia             2               2\n",
       "3      abbots anne             2               1\n",
       "4     abbots trace             4               1\n",
       "...            ...           ...             ...\n",
       "5791        zorina             3               3\n",
       "5792          zria             2               1\n",
       "5793      zucchero             2               1\n",
       "5794       zuleika             2               1\n",
       "5795       zvornik             4               1\n",
       "\n",
       "[5796 rows x 3 columns]"
      ]
     },
     "execution_count": 16,
     "metadata": {},
     "output_type": "execute_result"
    }
   ],
   "source": [
    "grouped"
   ]
  },
  {
   "cell_type": "code",
   "execution_count": 139,
   "metadata": {},
   "outputs": [
    {
     "data": {
      "text/html": [
       "<div>\n",
       "<style scoped>\n",
       "    .dataframe tbody tr th:only-of-type {\n",
       "        vertical-align: middle;\n",
       "    }\n",
       "\n",
       "    .dataframe tbody tr th {\n",
       "        vertical-align: top;\n",
       "    }\n",
       "\n",
       "    .dataframe thead th {\n",
       "        text-align: right;\n",
       "    }\n",
       "</style>\n",
       "<table border=\"1\" class=\"dataframe\">\n",
       "  <thead>\n",
       "    <tr style=\"text-align: right;\">\n",
       "      <th></th>\n",
       "      <th>id</th>\n",
       "      <th>status</th>\n",
       "      <th>name</th>\n",
       "      <th>sire_id</th>\n",
       "      <th>dam_id</th>\n",
       "      <th>YOB</th>\n",
       "      <th>sex</th>\n",
       "      <th>colour</th>\n",
       "      <th>COB</th>\n",
       "    </tr>\n",
       "  </thead>\n",
       "  <tbody>\n",
       "    <tr>\n",
       "      <th>30220</th>\n",
       "      <td>72702</td>\n",
       "      <td>0</td>\n",
       "      <td>abadan</td>\n",
       "      <td>18943</td>\n",
       "      <td>415195</td>\n",
       "      <td>1947</td>\n",
       "      <td>1</td>\n",
       "      <td>b.</td>\n",
       "      <td>GB</td>\n",
       "    </tr>\n",
       "    <tr>\n",
       "      <th>56785</th>\n",
       "      <td>196235</td>\n",
       "      <td>3</td>\n",
       "      <td>abadan</td>\n",
       "      <td>NaN</td>\n",
       "      <td>NaN</td>\n",
       "      <td>NaN</td>\n",
       "      <td>1</td>\n",
       "      <td>NaN</td>\n",
       "      <td>GB</td>\n",
       "    </tr>\n",
       "    <tr>\n",
       "      <th>56792</th>\n",
       "      <td>265453</td>\n",
       "      <td>3</td>\n",
       "      <td>abadan</td>\n",
       "      <td>NaN</td>\n",
       "      <td>NaN</td>\n",
       "      <td>NaN</td>\n",
       "      <td>1</td>\n",
       "      <td>NaN</td>\n",
       "      <td>GB</td>\n",
       "    </tr>\n",
       "  </tbody>\n",
       "</table>\n",
       "</div>"
      ],
      "text/plain": [
       "           id status    name sire_id  dam_id   YOB sex colour COB\n",
       "30220   72702      0  abadan   18943  415195  1947   1     b.  GB\n",
       "56785  196235      3  abadan     NaN     NaN   NaN   1    NaN  GB\n",
       "56792  265453      3  abadan     NaN     NaN   NaN   1    NaN  GB"
      ]
     },
     "execution_count": 139,
     "metadata": {},
     "output_type": "execute_result"
    }
   ],
   "source": [
    "reps[reps[\"name\"]==\"abadan\"]"
   ]
  },
  {
   "cell_type": "code",
   "execution_count": 21,
   "metadata": {},
   "outputs": [
    {
     "data": {
      "text/plain": [
       "id            0\n",
       "status        0\n",
       "name          0\n",
       "sire_id    6923\n",
       "dam_id     6924\n",
       "YOB        6709\n",
       "sex         214\n",
       "colour     7121\n",
       "COB         315\n",
       "dtype: int64"
      ]
     },
     "execution_count": 21,
     "metadata": {},
     "output_type": "execute_result"
    }
   ],
   "source": [
    "reps.isna().sum()"
   ]
  },
  {
   "cell_type": "code",
   "execution_count": 22,
   "metadata": {},
   "outputs": [
    {
     "data": {
      "text/plain": [
       "(14972, 9)"
      ]
     },
     "execution_count": 22,
     "metadata": {},
     "output_type": "execute_result"
    }
   ],
   "source": [
    "reps.shape"
   ]
  },
  {
   "cell_type": "code",
   "execution_count": 23,
   "metadata": {},
   "outputs": [
    {
     "data": {
      "text/plain": [
       "8050"
      ]
     },
     "execution_count": 23,
     "metadata": {},
     "output_type": "execute_result"
    }
   ],
   "source": [
    "14974-6924"
   ]
  },
  {
   "cell_type": "code",
   "execution_count": 27,
   "metadata": {},
   "outputs": [
    {
     "data": {
      "text/plain": [
       "id\n",
       "1    0.999254\n",
       "2    0.000746\n",
       "Name: proportion, dtype: float64"
      ]
     },
     "execution_count": 27,
     "metadata": {},
     "output_type": "execute_result"
    }
   ],
   "source": [
    "# distribution of name frequency for the same dam_id\n",
    "reps.groupby([\"dam_id\", \"name\"], as_index=False).agg({\"id\":\"count\"}).id.value_counts(normalize=True)"
   ]
  },
  {
   "cell_type": "code",
   "execution_count": 25,
   "metadata": {},
   "outputs": [
    {
     "data": {
      "text/html": [
       "<div>\n",
       "<style scoped>\n",
       "    .dataframe tbody tr th:only-of-type {\n",
       "        vertical-align: middle;\n",
       "    }\n",
       "\n",
       "    .dataframe tbody tr th {\n",
       "        vertical-align: top;\n",
       "    }\n",
       "\n",
       "    .dataframe thead th {\n",
       "        text-align: right;\n",
       "    }\n",
       "</style>\n",
       "<table border=\"1\" class=\"dataframe\">\n",
       "  <thead>\n",
       "    <tr style=\"text-align: right;\">\n",
       "      <th></th>\n",
       "      <th>dam_id</th>\n",
       "      <th>name</th>\n",
       "      <th>id</th>\n",
       "    </tr>\n",
       "  </thead>\n",
       "  <tbody>\n",
       "    <tr>\n",
       "      <th>879</th>\n",
       "      <td>171603</td>\n",
       "      <td>key factor</td>\n",
       "      <td>2</td>\n",
       "    </tr>\n",
       "    <tr>\n",
       "      <th>2074</th>\n",
       "      <td>290725</td>\n",
       "      <td>second fiddle</td>\n",
       "      <td>2</td>\n",
       "    </tr>\n",
       "    <tr>\n",
       "      <th>7737</th>\n",
       "      <td>81785</td>\n",
       "      <td>mashka</td>\n",
       "      <td>2</td>\n",
       "    </tr>\n",
       "    <tr>\n",
       "      <th>211</th>\n",
       "      <td>118872</td>\n",
       "      <td>formal invitation</td>\n",
       "      <td>2</td>\n",
       "    </tr>\n",
       "    <tr>\n",
       "      <th>236</th>\n",
       "      <td>120793</td>\n",
       "      <td>sandarac</td>\n",
       "      <td>2</td>\n",
       "    </tr>\n",
       "    <tr>\n",
       "      <th>75</th>\n",
       "      <td>106820</td>\n",
       "      <td>let the heirs walk</td>\n",
       "      <td>2</td>\n",
       "    </tr>\n",
       "    <tr>\n",
       "      <th>5357</th>\n",
       "      <td>433435</td>\n",
       "      <td>helene</td>\n",
       "      <td>1</td>\n",
       "    </tr>\n",
       "    <tr>\n",
       "      <th>5358</th>\n",
       "      <td>433437</td>\n",
       "      <td>divine</td>\n",
       "      <td>1</td>\n",
       "    </tr>\n",
       "    <tr>\n",
       "      <th>5359</th>\n",
       "      <td>433461</td>\n",
       "      <td>cooya</td>\n",
       "      <td>1</td>\n",
       "    </tr>\n",
       "    <tr>\n",
       "      <th>5360</th>\n",
       "      <td>433463</td>\n",
       "      <td>actor</td>\n",
       "      <td>1</td>\n",
       "    </tr>\n",
       "  </tbody>\n",
       "</table>\n",
       "</div>"
      ],
      "text/plain": [
       "      dam_id                name  id\n",
       "879   171603          key factor   2\n",
       "2074  290725       second fiddle   2\n",
       "7737   81785              mashka   2\n",
       "211   118872   formal invitation   2\n",
       "236   120793            sandarac   2\n",
       "75    106820  let the heirs walk   2\n",
       "5357  433435              helene   1\n",
       "5358  433437              divine   1\n",
       "5359  433461               cooya   1\n",
       "5360  433463               actor   1"
      ]
     },
     "execution_count": 25,
     "metadata": {},
     "output_type": "execute_result"
    }
   ],
   "source": [
    "reps.groupby([\"dam_id\", \"name\"], as_index=False).agg({\"id\":\"count\"}).sort_values(\"id\",ascending=False).head(10)"
   ]
  },
  {
   "cell_type": "code",
   "execution_count": 30,
   "metadata": {},
   "outputs": [
    {
     "data": {
      "text/html": [
       "<div>\n",
       "<style scoped>\n",
       "    .dataframe tbody tr th:only-of-type {\n",
       "        vertical-align: middle;\n",
       "    }\n",
       "\n",
       "    .dataframe tbody tr th {\n",
       "        vertical-align: top;\n",
       "    }\n",
       "\n",
       "    .dataframe thead th {\n",
       "        text-align: right;\n",
       "    }\n",
       "</style>\n",
       "<table border=\"1\" class=\"dataframe\">\n",
       "  <thead>\n",
       "    <tr style=\"text-align: right;\">\n",
       "      <th></th>\n",
       "      <th>id</th>\n",
       "      <th>status</th>\n",
       "      <th>name</th>\n",
       "      <th>sire_id</th>\n",
       "      <th>dam_id</th>\n",
       "      <th>YOB</th>\n",
       "      <th>sex</th>\n",
       "      <th>colour</th>\n",
       "      <th>COB</th>\n",
       "    </tr>\n",
       "  </thead>\n",
       "  <tbody>\n",
       "    <tr>\n",
       "      <th>15055</th>\n",
       "      <td>118873</td>\n",
       "      <td>0</td>\n",
       "      <td>formal invitation</td>\n",
       "      <td>2826</td>\n",
       "      <td>118872</td>\n",
       "      <td>1979</td>\n",
       "      <td>2</td>\n",
       "      <td>b.</td>\n",
       "      <td>IRE</td>\n",
       "    </tr>\n",
       "    <tr>\n",
       "      <th>15083</th>\n",
       "      <td>522450</td>\n",
       "      <td>0</td>\n",
       "      <td>formal invitation</td>\n",
       "      <td>2826</td>\n",
       "      <td>118872</td>\n",
       "      <td>1980</td>\n",
       "      <td>2</td>\n",
       "      <td>b.</td>\n",
       "      <td>IRE</td>\n",
       "    </tr>\n",
       "    <tr>\n",
       "      <th>35411</th>\n",
       "      <td>171604</td>\n",
       "      <td>1</td>\n",
       "      <td>key factor</td>\n",
       "      <td>46345</td>\n",
       "      <td>171603</td>\n",
       "      <td>2014</td>\n",
       "      <td>2</td>\n",
       "      <td>NaN</td>\n",
       "      <td>NaN</td>\n",
       "    </tr>\n",
       "    <tr>\n",
       "      <th>35421</th>\n",
       "      <td>595265</td>\n",
       "      <td>1</td>\n",
       "      <td>key factor</td>\n",
       "      <td>46345</td>\n",
       "      <td>171603</td>\n",
       "      <td>2015</td>\n",
       "      <td>2</td>\n",
       "      <td>gr.</td>\n",
       "      <td>AUS</td>\n",
       "    </tr>\n",
       "    <tr>\n",
       "      <th>15025</th>\n",
       "      <td>584967</td>\n",
       "      <td>1</td>\n",
       "      <td>let the heirs walk</td>\n",
       "      <td>2819</td>\n",
       "      <td>106820</td>\n",
       "      <td>2014</td>\n",
       "      <td>1</td>\n",
       "      <td>b.</td>\n",
       "      <td>IRE</td>\n",
       "    </tr>\n",
       "    <tr>\n",
       "      <th>42393</th>\n",
       "      <td>185538</td>\n",
       "      <td>1</td>\n",
       "      <td>let the heirs walk</td>\n",
       "      <td>185521</td>\n",
       "      <td>106820</td>\n",
       "      <td>2008</td>\n",
       "      <td>2</td>\n",
       "      <td>b.</td>\n",
       "      <td>IRE</td>\n",
       "    </tr>\n",
       "    <tr>\n",
       "      <th>33264</th>\n",
       "      <td>81786</td>\n",
       "      <td>0</td>\n",
       "      <td>mashka</td>\n",
       "      <td>31148</td>\n",
       "      <td>81785</td>\n",
       "      <td>1974</td>\n",
       "      <td>2</td>\n",
       "      <td>NaN</td>\n",
       "      <td>SAF</td>\n",
       "    </tr>\n",
       "    <tr>\n",
       "      <th>33268</th>\n",
       "      <td>233954</td>\n",
       "      <td>0</td>\n",
       "      <td>mashka</td>\n",
       "      <td>31148</td>\n",
       "      <td>81785</td>\n",
       "      <td>1972</td>\n",
       "      <td>2</td>\n",
       "      <td>ch.</td>\n",
       "      <td>SAF</td>\n",
       "    </tr>\n",
       "    <tr>\n",
       "      <th>4832</th>\n",
       "      <td>161568</td>\n",
       "      <td>0</td>\n",
       "      <td>sandarac</td>\n",
       "      <td>340</td>\n",
       "      <td>120793</td>\n",
       "      <td>1987</td>\n",
       "      <td>2</td>\n",
       "      <td>b.</td>\n",
       "      <td>NZ</td>\n",
       "    </tr>\n",
       "    <tr>\n",
       "      <th>4848</th>\n",
       "      <td>518392</td>\n",
       "      <td>0</td>\n",
       "      <td>sandarac</td>\n",
       "      <td>340</td>\n",
       "      <td>120793</td>\n",
       "      <td>1986</td>\n",
       "      <td>2</td>\n",
       "      <td>b.</td>\n",
       "      <td>NZ</td>\n",
       "    </tr>\n",
       "    <tr>\n",
       "      <th>15431</th>\n",
       "      <td>290726</td>\n",
       "      <td>1</td>\n",
       "      <td>second fiddle</td>\n",
       "      <td>2916</td>\n",
       "      <td>290725</td>\n",
       "      <td>2017</td>\n",
       "      <td>2</td>\n",
       "      <td>b.</td>\n",
       "      <td>JAM</td>\n",
       "    </tr>\n",
       "    <tr>\n",
       "      <th>15434</th>\n",
       "      <td>595331</td>\n",
       "      <td>1</td>\n",
       "      <td>second fiddle</td>\n",
       "      <td>2916</td>\n",
       "      <td>290725</td>\n",
       "      <td>2015</td>\n",
       "      <td>2</td>\n",
       "      <td>gr.</td>\n",
       "      <td>USA</td>\n",
       "    </tr>\n",
       "    <tr>\n",
       "      <th>27852</th>\n",
       "      <td>474226</td>\n",
       "      <td>0</td>\n",
       "      <td>second fiddle</td>\n",
       "      <td>14751</td>\n",
       "      <td>39281</td>\n",
       "      <td>1955</td>\n",
       "      <td>2</td>\n",
       "      <td>br.</td>\n",
       "      <td>GB</td>\n",
       "    </tr>\n",
       "  </tbody>\n",
       "</table>\n",
       "</div>"
      ],
      "text/plain": [
       "           id status                name sire_id  dam_id   YOB sex colour  COB\n",
       "15055  118873      0   formal invitation    2826  118872  1979   2     b.  IRE\n",
       "15083  522450      0   formal invitation    2826  118872  1980   2     b.  IRE\n",
       "35411  171604      1          key factor   46345  171603  2014   2    NaN  NaN\n",
       "35421  595265      1          key factor   46345  171603  2015   2    gr.  AUS\n",
       "15025  584967      1  let the heirs walk    2819  106820  2014   1     b.  IRE\n",
       "42393  185538      1  let the heirs walk  185521  106820  2008   2     b.  IRE\n",
       "33264   81786      0              mashka   31148   81785  1974   2    NaN  SAF\n",
       "33268  233954      0              mashka   31148   81785  1972   2    ch.  SAF\n",
       "4832   161568      0            sandarac     340  120793  1987   2     b.   NZ\n",
       "4848   518392      0            sandarac     340  120793  1986   2     b.   NZ\n",
       "15431  290726      1       second fiddle    2916  290725  2017   2     b.  JAM\n",
       "15434  595331      1       second fiddle    2916  290725  2015   2    gr.  USA\n",
       "27852  474226      0       second fiddle   14751   39281  1955   2    br.   GB"
      ]
     },
     "execution_count": 30,
     "metadata": {},
     "output_type": "execute_result"
    }
   ],
   "source": [
    "rep_names=reps.groupby([\"dam_id\", \"name\"], as_index=False).agg({\"id\":\"count\"}).query(\"id > 1\").name\n",
    "\n",
    "cleaned_pedigree[cleaned_pedigree[\"name\"].isin(rep_names)].sort_values(\"name\")"
   ]
  },
  {
   "cell_type": "code",
   "execution_count": null,
   "metadata": {},
   "outputs": [],
   "source": [
    "# for some reason it differs from earlier way"
   ]
  },
  {
   "cell_type": "markdown",
   "metadata": {},
   "source": [
    "6 pairs have the same name and the same mother out of 68,655 total individuals"
   ]
  },
  {
   "cell_type": "code",
   "execution_count": 31,
   "metadata": {},
   "outputs": [
    {
     "data": {
      "text/plain": [
       "id\n",
       "1    0.999912\n",
       "2    0.000088\n",
       "Name: proportion, dtype: float64"
      ]
     },
     "execution_count": 31,
     "metadata": {},
     "output_type": "execute_result"
    }
   ],
   "source": [
    "cleaned_pedigree.groupby([\"dam_id\",\"sire_id\", \"name\"], as_index=False).agg({\"id\":\"count\"}).id.value_counts(normalize=True)"
   ]
  },
  {
   "cell_type": "code",
   "execution_count": 32,
   "metadata": {},
   "outputs": [
    {
     "data": {
      "text/plain": [
       "id\n",
       "1    0.998072\n",
       "2    0.001928\n",
       "Name: proportion, dtype: float64"
      ]
     },
     "execution_count": 32,
     "metadata": {},
     "output_type": "execute_result"
    }
   ],
   "source": [
    "cleaned_pedigree.groupby([\"YOB\", \"name\"], as_index=False).agg({\"id\":\"count\"}).id.value_counts(normalize=True)"
   ]
  },
  {
   "cell_type": "code",
   "execution_count": 33,
   "metadata": {},
   "outputs": [
    {
     "data": {
      "text/plain": [
       "id\n",
       "1    1.0\n",
       "Name: proportion, dtype: float64"
      ]
     },
     "execution_count": 33,
     "metadata": {},
     "output_type": "execute_result"
    }
   ],
   "source": [
    "cleaned_pedigree.groupby([\"dam_id\",\"YOB\", \"name\"], as_index=False).agg({\"id\":\"count\"}).id.value_counts(normalize=True)"
   ]
  },
  {
   "cell_type": "markdown",
   "metadata": {},
   "source": [
    "0,012% of individuals have the same name and the same mother; 0,0088% have the same parents and the same name; 0% have the same year of birth and the same name."
   ]
  },
  {
   "cell_type": "code",
   "execution_count": 36,
   "metadata": {},
   "outputs": [
    {
     "data": {
      "text/plain": [
       "<pandas.core.groupby.generic.DataFrameGroupBy object at 0x7f10be6ddb40>"
      ]
     },
     "execution_count": 36,
     "metadata": {},
     "output_type": "execute_result"
    }
   ],
   "source": [
    "reps.groupby([\"name\"], as_index=False).agg{\"dam_id\":pd}"
   ]
  }
 ],
 "metadata": {
  "kernelspec": {
   "display_name": "base",
   "language": "python",
   "name": "python3"
  },
  "language_info": {
   "codemirror_mode": {
    "name": "ipython",
    "version": 3
   },
   "file_extension": ".py",
   "mimetype": "text/x-python",
   "name": "python",
   "nbconvert_exporter": "python",
   "pygments_lexer": "ipython3",
   "version": "3.10.10"
  }
 },
 "nbformat": 4,
 "nbformat_minor": 2
}
